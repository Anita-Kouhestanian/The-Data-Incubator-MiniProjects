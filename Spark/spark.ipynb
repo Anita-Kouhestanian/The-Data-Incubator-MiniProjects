{
 "cells": [
  {
   "cell_type": "code",
   "execution_count": null,
   "metadata": {
    "slideshow": null
   },
   "outputs": [],
   "source": [
    "import seaborn as sns\n",
    "sns.set()"
   ]
  },
  {
   "cell_type": "code",
   "execution_count": null,
   "metadata": {
    "slideshow": null
   },
   "outputs": [],
   "source": [
    "from static_grader import grader"
   ]
  },
  {
   "cell_type": "markdown",
   "metadata": {
    "slideshow": null
   },
   "source": [
    "# Spark Miniproject\n"
   ]
  },
  {
   "cell_type": "markdown",
   "metadata": {
    "slideshow": null
   },
   "source": [
    "Stack Overflow is a collaboratively edited question-and-answer site originally focused on programming topics. Because of the variety of features tracked, including a variety of feedback metrics, it allows for some open-ended analysis of user behavior on the site.\n",
    "\n",
    "Stack Exchange (the parent organization) provides an anonymized [data dump](https://archive.org/details/stackexchange), and we'll use Spark to perform data manipulation, analysis, and machine learning on this data set. As a side note, there's also an online data explorer which allows you to query the data interactively.\n",
    "\n",
    "*Consider*: Do we need to use Spark to work with this data set? What are our alternatives?"
   ]
  },
  {
   "cell_type": "markdown",
   "metadata": {
    "slideshow": null
   },
   "source": [
    "## Workflow\n"
   ]
  },
  {
   "cell_type": "markdown",
   "metadata": {
    "slideshow": null
   },
   "source": [
    "Most questions can be done locally, however in some cases you may want to use cloud services. See the appropriate lecture notebooks for information on how to use cloud services.\n",
    "\n",
    "Python example:\n",
    "\n",
    "1. Edit source code in your `main.py` file, classes in a separate `classes.py` (class definitions need to be written in a separate file and then included at runtime).\n",
    "1. Run locally on a chunk using eg. `$SPARK_HOME/bin/spark-submit --py-files src/classes.py src/main.py data/stats results/stats/`\n",
    "1. Run on GCP once your testing and development are done.\n",
    "\n",
    "General tips:\n",
    "* Try `cat output_dir/* | sort -n -t , -k 1.2 -o sorted_output` to concatenate your output files, which will also be in `part-xxxxx` format.\n",
    "* You can access an interactive PySpark shell with `$SPARK_HOME/bin/pyspark`."
   ]
  },
  {
   "cell_type": "markdown",
   "metadata": {
    "slideshow": null
   },
   "source": [
    "## Accessing the data\n"
   ]
  },
  {
   "cell_type": "markdown",
   "metadata": {
    "slideshow": null
   },
   "source": [
    "The data is available on S3 (`s3://dataincubator-course/spark-stack-data`). There are three sub-folders, `allUsers`, `allPosts`, and `allVotes`, which contain Gzipped XML with the following format:\n",
    "\n",
    "``` html\n",
    "<row Body=\"&lt;p&gt;I always validate my web pages, and I recommend you do the same BUT many large company websites DO NOT and cannot validate because the importance of the website looking exactly the same on all systems requires rules to be broken. &lt;/p&gt;&#10;&#10;&lt;p&gt;In general, valid websites help your page look good even on odd configurations (like cell phones) so you should always at least try to make it validate.&lt;/p&gt;&#10;\" CommentCount=\"0\" CreationDate=\"2008-10-12T20:26:29.397\" Id=\"195995\" LastActivityDate=\"2008-10-12T20:26:29.397\" OwnerDisplayName=\"Eric Wendelin\" OwnerUserId=\"25066\" ParentId=\"195973\" PostTypeId=\"2\" Score=\"0\" />\n",
    "```\n",
    "\n",
    "Data from the much smaller `stats.stackexchange.com` is available in the same format on S3 (`s3://dataincubator-course/spark-stats-data`). This site, Cross-Validated, will be used below in some instances to avoid working with the full data set for every question.\n",
    "\n",
    "The full schema is available as a text file:"
   ]
  },
  {
   "cell_type": "code",
   "execution_count": null,
   "metadata": {
    "slideshow": null
   },
   "outputs": [],
   "source": [
    "!aws s3 cp s3://dataincubator-course/spark-stats-data/stack_exchange_schema.txt ."
   ]
  },
  {
   "cell_type": "markdown",
   "metadata": {
    "slideshow": null
   },
   "source": [
    "You can either get the data by running the appropriate S3 commands in the terminal, or by running this block for the smaller stats data set:"
   ]
  },
  {
   "cell_type": "code",
   "execution_count": null,
   "metadata": {
    "slideshow": null
   },
   "outputs": [],
   "source": [
    "!mkdir -p spark-stats-data\n",
    "!aws s3 sync --exclude '*' --include 'all*' s3://dataincubator-course/spark-stats-data/ ./spark-stats-data\n",
    "!aws s3 sync --exclude '*' --include 'posts*zip' s3://dataincubator-course/spark-stats-data/ ./spark-stats-data"
   ]
  },
  {
   "cell_type": "markdown",
   "metadata": {
    "slideshow": null
   },
   "source": [
    "And to get the much larger full data set (be warned, this can take 20 or more minutes, so you may want to run it in the terminal to avoid locking up the notebook):"
   ]
  },
  {
   "cell_type": "code",
   "execution_count": null,
   "metadata": {
    "slideshow": null
   },
   "outputs": [],
   "source": [
    "!mkdir -p spark-stack-data\n",
    "!aws s3 sync --exclude '*' --include 'all*' s3://dataincubator-course/spark-stack-data/ ./spark-stack-data"
   ]
  },
  {
   "cell_type": "markdown",
   "metadata": {
    "slideshow": null
   },
   "source": [
    "## Data input and parsing\n"
   ]
  },
  {
   "cell_type": "markdown",
   "metadata": {
    "slideshow": null
   },
   "source": [
    "Some rows are split across multiple lines; these can be discarded. Incorrectly formatted XML can also be ignored. It is enough to simply skip problematic rows, the loss of data will not significantly impact our results on this large data sets.\n",
    "\n",
    "You will need to handle XML parsing yourself.  Our solution uses `lxml.etree` in Python.\n",
    "\n",
    "To make your code more flexible, it's also recommended to incorporate command-line arguments that specify the location of the input data and where output should be written.\n",
    "\n",
    "The goal should be to have a parsing function that can be applied to the input data to access any XML element desired. It is suggested to use a class structure so that you can create RDDs of Posts, Votes, Users, etc.\n",
    "\n",
    "``` python\n",
    "# Command line arguments using sysv or argparse in Python\n",
    "if __name__ == '__main__':\n",
    "    main(ARGS.input_dir, ARGS.output_dir)\n",
    "```"
   ]
  },
  {
   "cell_type": "markdown",
   "metadata": {
    "slideshow": null
   },
   "source": [
    "## Questions"
   ]
  },
  {
   "cell_type": "markdown",
   "metadata": {
    "slideshow": null
   },
   "source": [
    "## Bad XML\n"
   ]
  },
  {
   "cell_type": "markdown",
   "metadata": {
    "slideshow": null
   },
   "source": [
    "A simple question to test your parsing code. Create an RDD of Post objects where each Post is a valid row of XML from the Cross-Validated (stats.stackexchange.com) `allPosts` data set.\n",
    "\n",
    "We are going to take several shortcuts to speed up and simplify our computations.  First, your parsing function should only attempt to parse rows that start with `<row` as these denote actual data entries. This should be done in Spark as the data is being read in from disk, without any pre-Spark processing. \n",
    "\n",
    "Return the total number of XML rows that started with `<row` that were subsequently **rejected** during your processing.  Note that the text is unicode, and contains non-ASCII characters.  You may need to re-encode to UTF-8 (depending on your XML parser)\n",
    "\n",
    "Note that this cleaned data set will be used for all subsequent questions.\n",
    "\n",
    "*Question*: Can you figure out what filters you need to put in place to avoid throwing parsing errors entirely?"
   ]
  },
  {
   "cell_type": "code",
   "execution_count": null,
   "metadata": {},
   "outputs": [],
   "source": [
    "from pyspark import SparkContext\n",
    "\n",
    "sc = SparkContext(\"local[*]\", \"temp\")\n",
    "\n",
    "import os, time\n",
    "def localpath(path):\n",
    "    return 'file://' + os.path.join(os.path.abspath(os.path.curdir), path)"
   ]
  },
  {
   "cell_type": "code",
   "execution_count": null,
   "metadata": {},
   "outputs": [],
   "source": [
    "posts_xml = sc.textFile(localpath('spark-stats-data/allPosts/*'))"
   ]
  },
  {
   "cell_type": "code",
   "execution_count": null,
   "metadata": {},
   "outputs": [],
   "source": [
    "votes_xml = sc.textFile(localpath('spark-stats-data/allVotes/*'))"
   ]
  },
  {
   "cell_type": "code",
   "execution_count": null,
   "metadata": {},
   "outputs": [],
   "source": [
    "users_xml = sc.textFile(localpath('spark-stack-data/allUsers/*'))"
   ]
  },
  {
   "cell_type": "code",
   "execution_count": null,
   "metadata": {},
   "outputs": [],
   "source": [
    "from lxml import etree\n",
    "\n",
    "def xmlparser(xmlstring):\n",
    "    try:\n",
    "        root = etree.fromstring(xmlstring.encode('utf-8'), etree.XMLParser(encoding='utf-8'))\n",
    "        return root.attrib\n",
    "    except:\n",
    "        return None"
   ]
  },
  {
   "cell_type": "code",
   "execution_count": null,
   "metadata": {},
   "outputs": [],
   "source": [
    "def isRow(line):\n",
    "    return \"<row\" in line"
   ]
  },
  {
   "cell_type": "code",
   "execution_count": null,
   "metadata": {},
   "outputs": [],
   "source": [
    "class recordPost(object):\n",
    "    def __init__(self, tags, userID, date, typeID, score, views, answers, favorites, answerID):\n",
    "        self.tags = tags\n",
    "        self.userID = userID\n",
    "        self.date = date\n",
    "        self.typeID = typeID\n",
    "        self.score = score\n",
    "        self.views = views\n",
    "        self.answers = answers\n",
    "        self.favorites = favorites\n",
    "        self.answerID = answerID\n",
    "\n",
    "    @classmethod\n",
    "    def parse(cls, line):\n",
    "        attributes = xmlparser(line)\n",
    "        tags = attributes.get('Tags')\n",
    "        userID = attributes.get('OwnerUserId')\n",
    "        date = attributes.get('CreationDate')\n",
    "        typeID = attributes.get('PostTypeId')\n",
    "        score = int(attributes.get('Score', \"0\"))\n",
    "        views = int(attributes.get('ViewCount', \"0\"))\n",
    "        answers = int(attributes.get('AnswerCount', \"0\"))\n",
    "        favorites = int(attributes.get('FavoriteCount', \"0\"))\n",
    "        answerID = attributes.get('AcceptedAnswerId')\n",
    "        return cls(tags, userID, date, typeID, score, views, answers, favorites, answerID)\n",
    "    \n",
    "class recordUser(object):\n",
    "    def __init__(self, ID, date, reputation):\n",
    "        self.ID = ID\n",
    "        self.date = date\n",
    "        self.reputation = reputation\n",
    "\n",
    "    @classmethod\n",
    "    def parse(cls, line):\n",
    "        attributes = xmlparser(line)\n",
    "        ID = attributes.get('Id')\n",
    "        date = attributes.get('CreationDate')\n",
    "        reputation = attributes.get('Reputation')\n",
    "        return cls(ID, date, reputation)\n",
    "    \n",
    "class recordVote(object):\n",
    "    def __init__(self, typeID, postID):\n",
    "        self.typeID = typeID\n",
    "        self.postID = postID\n",
    "\n",
    "    @classmethod\n",
    "    def parse(cls, line):\n",
    "        attributes = xmlparser(line)\n",
    "        typeID = attributes.get('VoteTypeId')\n",
    "        postID = attributes.get('PostId')\n",
    "        return cls(typeID, postID)\n",
    "    \n",
    "class Record(object):\n",
    "    def __init__(self, attributes):\n",
    "        self.attr = attributes\n",
    "\n",
    "    @classmethod\n",
    "    def parse(cls, line):\n",
    "        attributes = xmlparser(line)\n",
    "        return cls(attributes)"
   ]
  },
  {
   "cell_type": "code",
   "execution_count": null,
   "metadata": {},
   "outputs": [],
   "source": [
    "post_record = posts_xml.filter(lambda x: isRow(x)) \\\n",
    "                .filter(lambda x: xmlparser(x) is not None) \\\n",
    "                .map(recordPost.parse)\n",
    "    \n",
    "vote_record = votes_xml.filter(lambda x: isRow(x)) \\\n",
    "                .filter(lambda x: xmlparser(x) is not None) \\\n",
    "                .map(recordVote.parse)\n",
    "    \n",
    "user_record = users_xml.filter(lambda x: isRow(x)) \\\n",
    "                .filter(lambda x: xmlparser(x) is not None) \\\n",
    "                .map(recordUser.parse)"
   ]
  },
  {
   "cell_type": "code",
   "execution_count": null,
   "metadata": {},
   "outputs": [],
   "source": [
    "badXMLcount = posts_xml.filter(lambda x: isRow(x)) \\\n",
    "                    .filter(lambda x: xmlparser(x) is None) \\\n",
    "                    .count()"
   ]
  },
  {
   "cell_type": "code",
   "execution_count": null,
   "metadata": {},
   "outputs": [],
   "source": [
    "raw = sc.textFile(localpath('spark-stats-data/allPosts'))"
   ]
  },
  {
   "cell_type": "code",
   "execution_count": null,
   "metadata": {},
   "outputs": [],
   "source": [
    "xmls=raw.filter(lambda x: '<row' in x)"
   ]
  },
  {
   "cell_type": "code",
   "execution_count": null,
   "metadata": {},
   "outputs": [],
   "source": [
    "xmls.count()\n"
   ]
  },
  {
   "cell_type": "code",
   "execution_count": null,
   "metadata": {},
   "outputs": [],
   "source": [
    "from lxml import etree\n",
    "a=etree.fromstring('''<row Body=\"\" CommentCount=\"0\" CreationDate=\"2013-10-28T10:42:29.940\" Id=\"73933\" LastActivityDate=\"2013-10-28T10:42:29.940\" LastEditDate=\"2013-10-28T10:42:29.940\" LastEditorUserId=\"686\" OwnerUserId=\"686\" PostTypeId=\"5\" Score=\"0\" />''')"
   ]
  },
  {
   "cell_type": "code",
   "execution_count": null,
   "metadata": {},
   "outputs": [],
   "source": [
    "a.getchildren()\n",
    "'Score' in a.attrib"
   ]
  },
  {
   "cell_type": "code",
   "execution_count": null,
   "metadata": {},
   "outputs": [],
   "source": [
    "#XMLsyntaxError\n",
    "import xml.etree.ElementTree as ET"
   ]
  },
  {
   "cell_type": "code",
   "execution_count": null,
   "metadata": {},
   "outputs": [],
   "source": [
    "def parsePost(line):\n",
    "    try:\n",
    "        root = ET.fromstring(line)\n",
    "        return line\n",
    "    except:\n",
    "        return 0"
   ]
  },
  {
   "cell_type": "code",
   "execution_count": null,
   "metadata": {},
   "outputs": [],
   "source": [
    "posts = xmls.map(parsePost).filter(lambda x: x!= 0)"
   ]
  },
  {
   "cell_type": "code",
   "execution_count": null,
   "metadata": {},
   "outputs": [],
   "source": [
    "posts.count()"
   ]
  },
  {
   "cell_type": "markdown",
   "metadata": {
    "slideshow": null
   },
   "source": [
    "## Favorites and scores"
   ]
  },
  {
   "cell_type": "markdown",
   "metadata": {
    "slideshow": null
   },
   "source": [
    "We're interested in looking for useful patterns in the data.  If we look at the Post data again (the smaller set, `stats.stackexchange.com`), we see that many things about each post are recorded.  We're going to start by looking to see if there is a relationship between the number of times a post was favorited (the `FavoriteCount`) and the `Score`.  The score is the number of times the post was upvoted minus the number of times it was downvoted, so it is a measure of how much a post was liked.  We'd expect posts with a higher number of favorites to have better scores, since they're both measurements of how good the post is.\n",
    "\n",
    "Let's aggregate posts by the number of favorites, and find the average score for each number of favorites.  Do this for the lowest 50 numbers of favorites.\n",
    "\n",
    "_Note:_ Before submitting, take a look at the numbers.  Do they follow the trend you expect?\n",
    "\n",
    "**Checkpoints**\n",
    "\n",
    "- Total score across all posts: 299469\n",
    "- Mean of first 50 favorite counts (averaging the keys themselves): 24.76"
   ]
  },
  {
   "cell_type": "code",
   "execution_count": null,
   "metadata": {},
   "outputs": [],
   "source": [
    "def fav(line):\n",
    "    try:\n",
    "        root = ET.fromstring(line)\n",
    "        if \"Score\" and \"FavoriteCount\" in root.attrib:\n",
    "            score = root.attrib['Score']\n",
    "            fav = root.attrib['FavoriteCount']\n",
    "            return (int(fav),int(score))\n",
    "        else:\n",
    "            return ('Empty')\n",
    "    except:\n",
    "        return ('Empty')"
   ]
  },
  {
   "cell_type": "code",
   "execution_count": null,
   "metadata": {},
   "outputs": [],
   "source": [
    "favs=posts.map(fav).filter(lambda x: x != 'Empty')"
   ]
  },
  {
   "cell_type": "code",
   "execution_count": null,
   "metadata": {},
   "outputs": [],
   "source": [
    "favs.sortByKey()\\\n",
    "    .reduceByKey(lambda x,y: x+y).take(5)"
   ]
  },
  {
   "cell_type": "code",
   "execution_count": null,
   "metadata": {},
   "outputs": [],
   "source": [
    "favs.sortByKey(lambda x: x[0])\\\n",
    "    .reduceByKey(lambda x,y: x+y).count()"
   ]
  },
  {
   "cell_type": "code",
   "execution_count": null,
   "metadata": {},
   "outputs": [],
   "source": [
    "favs.map(lambda x: x[0]).map(lambda x: (x,1))\\\n",
    "    .sortByKey(lambda x: x[0])\\\n",
    "    .reduceByKey(lambda x,y: x+y).take(5)"
   ]
  },
  {
   "cell_type": "code",
   "execution_count": null,
   "metadata": {},
   "outputs": [],
   "source": [
    "favs.map(lambda x: x[0]).map(lambda x: (x,1))\\\n",
    "    .reduceByKey(lambda x,y: x+y).count()"
   ]
  },
  {
   "cell_type": "code",
   "execution_count": null,
   "metadata": {},
   "outputs": [],
   "source": [
    "total = favs.sortByKey(lambda x: x[0])\\\n",
    "            .reduceByKey(lambda x,y: x+y)\n",
    "\n",
    "count = favs.map(lambda x: x[0]).map(lambda x: (x,1))\\\n",
    "            .sortByKey(lambda x: x[0])\\\n",
    "            .reduceByKey(lambda x,y: x+y)"
   ]
  },
  {
   "cell_type": "code",
   "execution_count": null,
   "metadata": {},
   "outputs": [],
   "source": [
    "total.join(count).map(lambda x: (x[0],x[1][0]/x[1][1])).collect()"
   ]
  },
  {
   "cell_type": "code",
   "execution_count": null,
   "metadata": {},
   "outputs": [],
   "source": [
    "#favorite_score = [(0, 2.3398827696988396)]*50\n",
    "favorite = list(total.join(count).map(lambda x: (x[0],x[1][0]/x[1][1])).collect())"
   ]
  },
  {
   "cell_type": "code",
   "execution_count": null,
   "metadata": {},
   "outputs": [],
   "source": [
    "favorite_score = sorted(favorite, key=lambda x: x[0])[:50]"
   ]
  },
  {
   "cell_type": "code",
   "execution_count": null,
   "metadata": {
    "slideshow": null
   },
   "outputs": [],
   "source": [
    "# favorite_score = [(0, 2.3398827696988396)]*50\n",
    "grader.score('spark__favorite_score', favorite_score)"
   ]
  },
  {
   "cell_type": "markdown",
   "metadata": {
    "slideshow": null
   },
   "source": [
    "## Answer percentage\n"
   ]
  },
  {
   "cell_type": "markdown",
   "metadata": {
    "slideshow": null
   },
   "source": [
    "Investigate the correlation between a user's reputation and the kind of posts they make. For the 99 users with the highest reputation, single out posts which are either questions or answers and look at the percentage of these posts that are answers: *(answers / (answers + questions))*. \n",
    "\n",
    "Return a tuple of their **user ID** and this fraction.\n",
    "\n",
    "You should also return (-1, fraction) to represent the case where you average over all users (so you will return 100 entries total).\n",
    "\n",
    "Again, you only need to run this on the statistics overflow set.\n"
   ]
  },
  {
   "cell_type": "markdown",
   "metadata": {
    "slideshow": null
   },
   "source": [
    "#### Checkpoints"
   ]
  },
  {
   "cell_type": "markdown",
   "metadata": {
    "slideshow": null
   },
   "source": [
    "* Total questions: 52,060\n",
    "* Total answers: 55,304\n",
    "* Top 99 users' average reputation: 11893.464646464647"
   ]
  },
  {
   "cell_type": "code",
   "execution_count": null,
   "metadata": {},
   "outputs": [],
   "source": [
    "users = sc.textFile(localpath('spark-stats-data/allUsers'))"
   ]
  },
  {
   "cell_type": "code",
   "execution_count": null,
   "metadata": {},
   "outputs": [],
   "source": [
    "##get reputation score\n",
    "def rep(line):\n",
    "    if '<row' in line:\n",
    "        try:\n",
    "            root = ET.fromstring(line)\n",
    "            if \"Id\" and \"Reputation\" in root.attrib:\n",
    "                uid = root.attrib['Id']\n",
    "                rep = root.attrib['Reputation']\n",
    "                return (uid,int(rep))\n",
    "            else:\n",
    "                return ('Empty')\n",
    "        except:\n",
    "            return ('Empty')\n",
    "    else:\n",
    "        return ('Empty')\n",
    "    \n",
    "all_users=users.map(rep).filter(lambda x: x != 'Empty').sortBy(lambda x: -x[1])\n",
    "\n",
    "##get post with questions and answers\n",
    "def post(line):\n",
    "    try:\n",
    "        root = ET.fromstring(line)\n",
    "        if \"PostTypeId\" and \"OwnerUserId\" in root.attrib:\n",
    "            uid = root.attrib['OwnerUserId']\n",
    "            ptype = int(root.attrib['PostTypeId'])\n",
    "            if ptype == 1 or ptype == 2:\n",
    "                return (uid,ptype)\n",
    "            else:\n",
    "                return ('Empty')\n",
    "        else:\n",
    "            return ('Empty')\n",
    "    except:\n",
    "        return ('Empty')\n",
    "    \n",
    "all_p = posts.map(post).filter(lambda x: x != 'Empty')\n",
    "\n",
    "questions = all_p.filter(lambda x: x[1] == 1).reduceByKey(lambda x,y: x+y)\n",
    "\n",
    "answers = all_p.filter(lambda x: x[1] == 2).reduceByKey(lambda x,y: x+y).map(lambda x: (x[0],int(x[1]/2)))\n",
    "\n",
    "##merge \n",
    "answer_percentage_long=all_users.join(questions).join(answers)\\\n",
    "                                .map(lambda x: (int(x[0]),x[1][0][0],x[1][0][1],x[1][1]))\\\n",
    "                                .map(lambda x: (x[0],x[1],x[3]/(x[2]+x[3])))\\\n",
    "                                .takeOrdered(99, key=lambda x: -x[1])\n",
    "\n",
    "answer_percentage=[(x[0],x[2]) for x in answer_percentage_long]\n",
    "\n",
    "##calculate average\n",
    "total, count = all_users.join(questions).join(answers).map(lambda x: (int(x[0]),x[1][0][0],x[1][0][1],x[1][1]))\\\n",
    "                        .map(lambda x: (x[0],x[3]/(x[2]+x[3]),1))\\\n",
    "                        .map(lambda x: (x[1],x[2]))\\\n",
    "                        .reduce(lambda x, y: (x[0]+y[0], x[1]+y[1]))\n",
    "\n",
    "avg = (-1,total/count)\n",
    "answer_percentage.append(avg)"
   ]
  },
  {
   "cell_type": "code",
   "execution_count": null,
   "metadata": {
    "slideshow": null
   },
   "outputs": [],
   "source": [
    "# answer_percentage = [(7071, 0.9107142857142857)] * 100\n",
    "\n",
    "grader.score('spark__answer_percentage', answer_percentage)"
   ]
  },
  {
   "cell_type": "markdown",
   "metadata": {
    "slideshow": null
   },
   "source": [
    "## First question"
   ]
  },
  {
   "cell_type": "markdown",
   "metadata": {
    "slideshow": null
   },
   "source": [
    "We'd expect the first **question** a user asks to be indicative of their future behavior.  We'll dig more into that in the next problem, but for now let's see the relationship between reputation and how long it took each person to ask their first question.\n",
    "\n",
    "For each user that asked a question, find the difference between when their account was created (`CreationDate` for the User) and when they asked their first question (`CreationDate` for their first question).  Return this time difference in days (round down, so 2.7 days counts as 2 days) for the 100 users with the highest reputation, in the form\n",
    "\n",
    "`(UserId, Days)`\n",
    "\n",
    "**Checkpoints**\n",
    "- Users that asked a question: 23134\n",
    "- Average number of days (round each user's days, then average): 30.1074258"
   ]
  },
  {
   "cell_type": "code",
   "execution_count": null,
   "metadata": {},
   "outputs": [],
   "source": [
    "def first_question(line):\n",
    "    if '<row' in line:\n",
    "        try:\n",
    "            root = ET.fromstring(line)\n",
    "            if \"Id\" and \"Reputation\" and 'CreationDate' in root.attrib:\n",
    "                uid = root.attrib['Id']\n",
    "                rep = root.attrib['Reputation']\n",
    "                cdate = root.attrib['CreationDate']\n",
    "                return (int(uid),int(rep),cdate)\n",
    "            else:\n",
    "                return ('Empty')\n",
    "        except:\n",
    "            return ('Empty')\n",
    "    else:\n",
    "        return ('Empty')"
   ]
  },
  {
   "cell_type": "code",
   "execution_count": null,
   "metadata": {},
   "outputs": [],
   "source": [
    "from datetime import timedelta, datetime\n",
    "def parsetime(x):\n",
    "    if x is None:\n",
    "        return None\n",
    "    else:\n",
    "        return datetime.strptime(x,'%Y-%m-%dT%H:%M:%S.%f')"
   ]
  },
  {
   "cell_type": "code",
   "execution_count": null,
   "metadata": {},
   "outputs": [],
   "source": [
    "user_info = users.map(first_question).filter(lambda x: x != 'Empty')\\\n",
    "                 .map(lambda x: (x[0], (x[1], parsetime(x[2]))))"
   ]
  },
  {
   "cell_type": "code",
   "execution_count": null,
   "metadata": {},
   "outputs": [],
   "source": [
    "def post_first_question(line):\n",
    "    try:\n",
    "        root = ET.fromstring(line)\n",
    "        if \"PostTypeId\" and \"OwnerUserId\" and 'CreationDate' in root.attrib:\n",
    "            uid = root.attrib['OwnerUserId']\n",
    "            ptype = int(root.attrib['PostTypeId'])\n",
    "            cdate = root.attrib['CreationDate']\n",
    "            if ptype == 1:\n",
    "                return (int(uid),cdate)\n",
    "            else:\n",
    "                return ('Empty')\n",
    "        else:\n",
    "            return ('Empty')\n",
    "    except:\n",
    "        return ('Empty')"
   ]
  },
  {
   "cell_type": "code",
   "execution_count": null,
   "metadata": {},
   "outputs": [],
   "source": [
    "post_info = posts.map(post_first_question).filter(lambda x: x != 'Empty')\\\n",
    "                 .map(lambda x: (x[0], parsetime(x[1])))\\\n",
    "                 .reduceByKey(lambda x, y: min(x, y))"
   ]
  },
  {
   "cell_type": "code",
   "execution_count": null,
   "metadata": {},
   "outputs": [],
   "source": [
    "user_info.take(5)"
   ]
  },
  {
   "cell_type": "code",
   "execution_count": null,
   "metadata": {},
   "outputs": [],
   "source": [
    "def time_delta(x,y):\n",
    "    if x is None or y is None:\n",
    "        return None\n",
    "    else:\n",
    "        return (x-y).days"
   ]
  },
  {
   "cell_type": "code",
   "execution_count": null,
   "metadata": {},
   "outputs": [],
   "source": [
    "first_questions = user_info.join(post_info).map(lambda x: (x[0],x[1][0][0],x[1][0][1],x[1][1]))\\\n",
    ".map(lambda x:(x[0],x[1],time_delta(x[3],x[2]))).takeOrdered(100, key=lambda x: -x[1])"
   ]
  },
  {
   "cell_type": "code",
   "execution_count": null,
   "metadata": {},
   "outputs": [],
   "source": [
    "first_question=[(x[0],x[2]) for x in first_questions]"
   ]
  },
  {
   "cell_type": "code",
   "execution_count": null,
   "metadata": {
    "slideshow": null
   },
   "outputs": [],
   "source": [
    "# first_question = [(805, 669)] * 100\n",
    "\n",
    "grader.score('spark__first_question', first_question)"
   ]
  },
  {
   "cell_type": "markdown",
   "metadata": {
    "slideshow": null
   },
   "source": [
    "## Identify veterans\n"
   ]
  },
  {
   "cell_type": "markdown",
   "metadata": {
    "slideshow": null
   },
   "source": [
    "It can be interesting to think about what factors influence a user to remain active on the site over a long period of time. In order not to bias the results towards older users, we'll define a time window between 100 and 150 days after account creation. If the user has made a post in this time, we'll consider them active and well on their way to being veterans of the site; if not, they are inactive and were likely brief users.\n",
    "\n",
    "*Consider*: What other parameterizations of \"activity\" could we use, and how would they differ in terms of splitting our user base?\n",
    "\n",
    "*Consider*: What other biases are still not dealt with, after using the above approach?\n",
    "\n",
    "Let's see if there are differences between the first ever question posts of \"veterans\" vs. \"brief users\". For each group separately, average the score, views, number of answers, and number of favorites of the users' **first question**.\n",
    "\n",
    "*Consider*: What story could you tell from these numbers? How do the numbers support it?\n"
   ]
  },
  {
   "cell_type": "code",
   "execution_count": null,
   "metadata": {},
   "outputs": [],
   "source": [
    "def localpath(path):\n",
    "    return 'file://' + os.path.join(os.path.abspath(os.path.curdir), path)\n",
    "\n",
    "posts = sc.textFile(localpath('spark-stats-data/allPosts'))\n",
    "users = sc.textFile(localpath('spark-stats-data/allUsers'))\n",
    "\n",
    "#define functions\n",
    "def parsetime(x):\n",
    "    if x is None:\n",
    "        return None\n",
    "    else:\n",
    "        return datetime.strptime(x,'%Y-%m-%dT%H:%M:%S.%f')\n",
    "    \n",
    "def time_delta(x,y):\n",
    "    if x is None or y is None:\n",
    "        return None\n",
    "    else:\n",
    "        return (x-y).days\n",
    "    \n",
    "def user_parse(line):\n",
    "    if '<row' in line:\n",
    "        try:\n",
    "            root = ET.fromstring(line)\n",
    "            if \"Id\" in root.attrib:\n",
    "                uid = root.attrib['Id']\n",
    "                cdate = root.attrib.get('CreationDate',None)\n",
    "                return (int(uid),cdate)\n",
    "            else:\n",
    "                return ('Empty')\n",
    "        except:\n",
    "            return ('Empty')\n",
    "    else:\n",
    "        return ('Empty')\n",
    "    \n",
    "def date_post(line):\n",
    "    if '<row' in line:\n",
    "        try:\n",
    "            root = ET.fromstring(line)\n",
    "            if \"OwnerUserId\" in root.attrib:\n",
    "                uid = root.attrib['OwnerUserId']\n",
    "                cdate = root.attrib.get('CreationDate',None)\n",
    "                return (int(uid),cdate)\n",
    "            else:\n",
    "                return ('Empty')\n",
    "        except:\n",
    "            return ('Empty')\n",
    "    else:\n",
    "        return ('Empty')\n",
    "    \n",
    "def vet(x):\n",
    "    if x is None:\n",
    "        return 0\n",
    "    if int(x) >= 100 and int(x) <= 150:\n",
    "        return 1\n",
    "    else:\n",
    "        return 0\n",
    "\n",
    "##get rdds\n",
    "valid_users = users.map(user_parse).filter(lambda x: x != 'Empty').map(lambda x: (x[0],parsetime(x[1])))    \n",
    "\n",
    "valid_posts = posts.map(date_post).filter(lambda x: x != 'Empty')\\\n",
    "                        .map(lambda x: (x[0],parsetime(x[1])))\n",
    "\n",
    "all_user_info = valid_users.join(valid_posts)\\\n",
    "                           .map(lambda x: (x[0],time_delta(x[1][1],x[1][0])))         \n",
    "\n",
    "all_i = all_user_info.map(lambda x: (x[0],vet(x[1]))).reduceByKey(lambda x,y: max(x,y))\n",
    "\n",
    "veteran = all_i.filter(lambda x: x[1] == 1)\n",
    "brief_views = all_i.filter(lambda x: x[1] == 0)\n",
    "\n",
    "def post_first_question_more(line):\n",
    "    try:\n",
    "        root = ET.fromstring(line)\n",
    "        if \"PostTypeId\" and \"OwnerUserId\" and 'CreationDate' in root.attrib:\n",
    "            uid = root.attrib['OwnerUserId']\n",
    "            ptype = int(root.attrib['PostTypeId'])\n",
    "            cdate = root.attrib['CreationDate']\n",
    "            #a.attrib.get('Score',1)\n",
    "            answer = root.attrib.get(\"AnswerCount\",0)           \n",
    "            view = root.attrib.get(\"ViewCount\",0)           \n",
    "            fav = root.attrib.get(\"FavoriteCount\",0)            \n",
    "            s = root.attrib.get(\"Score\",0) \n",
    "            #filter out questions\n",
    "            if ptype == 1:\n",
    "                return (int(uid),cdate,int(answer),int(view),int(fav),int(s))\n",
    "            else:\n",
    "                return ('Empty')\n",
    "        else:\n",
    "            return ('Empty')\n",
    "    except:\n",
    "        return ('Empty')\n",
    "\n",
    "#find out the first questions date\n",
    "first_q= posts_long.map(post_first_question_more).filter(lambda x: x != 'Empty')\\\n",
    "              .map(lambda x: (x[0], parsetime(x[1])))\\\n",
    "              .reduceByKey(lambda x, y: min(x, y))\\\n",
    "              .map(lambda x: ((x[0],x[1]),1))\n",
    "\n",
    "#find out all questions' performance\n",
    "all_q = posts_long.map(post_first_question_more).filter(lambda x: x != 'Empty')\\\n",
    "              .map(lambda x: ((x[0],parsetime(x[1])),(x[2],x[3],x[4],x[5])))\n",
    "\n",
    "#merge (acount, first_question_date) with performances\n",
    "stats = first_q.join(all_q).map(lambda x: (x[0][0],(x[1][1][0],x[1][1][1],x[1][1][2],x[1][1][3])))\n",
    "\n",
    "##calculate average for veterian\n",
    "a,v,f,s,t=veteran.join(stats).map(lambda x: (x[0],(x[1][1][0],x[1][1][1],x[1][1][2],x[1][1][3])))\\\n",
    "                         .map(lambda x: (x[1][0],x[1][1],x[1][2],x[1][3],1))\\\n",
    "                         .reduce(lambda x,y: (x[0]+y[0],x[1]+y[1],x[2]+y[2],x[3]+y[3],x[4]+y[4]))       \n",
    "\n",
    "###calculate average for brief views\n",
    "a1,v1,f1,s1,t1=brief_views.join(stats).map(lambda x: (x[0],(x[1][1][0],x[1][1][1],x[1][1][2],x[1][1][3])))\\\n",
    "                         .map(lambda x: (x[1][0],x[1][1],x[1][2],x[1][3],1))\\\n",
    "                         .reduce(lambda x,y: (x[0]+y[0],x[1]+y[1],x[2]+y[2],x[3]+y[3],x[4]+y[4]))       \n",
    "\n",
    "#pass to lists\n",
    "lis=[s,v,a,f]\n",
    "lis1=[l/t for l in lis]\n",
    "\n",
    "lis=[s1,v1,a1,f1]\n",
    "lis2=[l/t1 for l in lis]\n",
    "\n",
    "lis1.extend(lis2)\n",
    "\n",
    "names=[\"vet_score\",\"vet_views\",\"vet_answers\",\"vet_favorites\",\"brief_score\",\"brief_views\",\"brief_answers\",\"brief_favorites\"]\n",
    "identify_veterans_full = {n:l for n,l in zip(names,lis1)}"
   ]
  },
  {
   "cell_type": "markdown",
   "metadata": {
    "slideshow": null
   },
   "source": [
    "#### Checkpoints"
   ]
  },
  {
   "cell_type": "code",
   "execution_count": null,
   "metadata": {},
   "outputs": [],
   "source": [
    "identify_veterans = {'brief_answers': 0.9705827067669173,\n",
    " 'brief_favorites': 0.5757988721804511,\n",
    " 'brief_score': 2.100892857142857,\n",
    " 'brief_views': 553.4432330827068,\n",
    " 'vet_answers': 1.2974161627267728,\n",
    " 'vet_favorites': 1.3001649257833974,\n",
    " 'vet_score': 3.54370533260033,\n",
    " 'vet_views': 925.8889499725124}"
   ]
  },
  {
   "cell_type": "code",
   "execution_count": null,
   "metadata": {
    "slideshow": null
   },
   "outputs": [],
   "source": [
    "# identify_veterans = {\n",
    "#     \"vet_score\": 0,\n",
    "#     \"vet_views\": 0,\n",
    "#     \"vet_answers\": 0,\n",
    "#     \"vet_favorites\": 0,\n",
    "#     \"brief_score\": 0,\n",
    "#     \"brief_views\": 0,\n",
    "#     \"brief_answers\": 0,\n",
    "#     \"brief_favorites\": 0\n",
    "# }\n",
    "\n",
    "grader.score('spark__identify_veterans', identify_veterans)"
   ]
  },
  {
   "cell_type": "markdown",
   "metadata": {
    "slideshow": null
   },
   "source": [
    "## Identify veterans&mdash;full\n"
   ]
  },
  {
   "cell_type": "markdown",
   "metadata": {
    "slideshow": null
   },
   "source": [
    "Same as above, but on the full Stack Exchange data set.\n",
    "\n",
    "No pre-parsed data is available for this question.\n"
   ]
  },
  {
   "cell_type": "markdown",
   "metadata": {
    "slideshow": null
   },
   "source": [
    "#### Checkpoints"
   ]
  },
  {
   "cell_type": "markdown",
   "metadata": {
    "slideshow": null
   },
   "source": [
    "* Total brief users: 1,848,628\n",
    "* Total veteran users: 288,285"
   ]
  },
  {
   "cell_type": "code",
   "execution_count": null,
   "metadata": {},
   "outputs": [],
   "source": [
    "def localpath(path):\n",
    "    return 'file://' + os.path.join(os.path.abspath(os.path.curdir), path)\n",
    "\n",
    "posts_long = sc.textFile(localpath('spark-stack-data/allPosts'))\n",
    "users_long = sc.textFile(localpath('spark-stack-data/allUsers'))"
   ]
  },
  {
   "cell_type": "code",
   "execution_count": null,
   "metadata": {},
   "outputs": [],
   "source": [
    "def parsetime(x):\n",
    "    if x is None:\n",
    "        return None\n",
    "    else:\n",
    "        return datetime.strptime(x,'%Y-%m-%dT%H:%M:%S.%f')\n",
    "    \n",
    "def time_delta(x,y):\n",
    "    if x is None or y is None:\n",
    "        return None\n",
    "    else:\n",
    "        return (x-y).days\n",
    "    \n",
    "def user_parse(line):\n",
    "    if '<row' in line:\n",
    "        try:\n",
    "            root = ET.fromstring(line)\n",
    "            if \"Id\" in root.attrib:\n",
    "                uid = root.attrib['Id']\n",
    "                cdate = root.attrib.get('CreationDate',None)\n",
    "                return (int(uid),cdate)\n",
    "            else:\n",
    "                return ('Empty')\n",
    "        except:\n",
    "            return ('Empty')\n",
    "    else:\n",
    "        return ('Empty')\n",
    "    \n",
    "def date_post(line):\n",
    "    if '<row' in line:\n",
    "        try:\n",
    "            root = ET.fromstring(line)\n",
    "            if \"OwnerUserId\" in root.attrib:\n",
    "                uid = root.attrib['OwnerUserId']\n",
    "                cdate = root.attrib.get('CreationDate',None)\n",
    "                return (int(uid),cdate)\n",
    "            else:\n",
    "                return ('Empty')\n",
    "        except:\n",
    "            return ('Empty')\n",
    "    else:\n",
    "        return ('Empty')\n",
    "    \n",
    "def vet(x):\n",
    "    if x is None:\n",
    "        return 0\n",
    "    if int(x) >= 100 and int(x) <= 150:\n",
    "        return 1\n",
    "    else:\n",
    "        return 0\n",
    "    \n",
    "valid_users = users_long.map(user_parse).filter(lambda x: x != 'Empty').map(lambda x: (x[0],parsetime(x[1])))    \n",
    "\n",
    "valid_posts = posts_long.map(date_post).filter(lambda x: x != 'Empty')\\\n",
    "                        .map(lambda x: (x[0],parsetime(x[1])))\n",
    "\n",
    "all_user_info = valid_users.join(valid_posts)\\\n",
    "                           .map(lambda x: (x[0],time_delta(x[1][1],x[1][0])))         \n",
    "\n",
    "all_i = all_user_info.map(lambda x: (x[0],vet(x[1]))).reduceByKey(lambda x,y: max(x,y))\n",
    "\n",
    "veteran = all_i.filter(lambda x: x[1] == 1)\n",
    "brief_views = all_i.filter(lambda x: x[1] == 0)"
   ]
  },
  {
   "cell_type": "code",
   "execution_count": null,
   "metadata": {},
   "outputs": [],
   "source": [
    "def post_first_question_more(line):\n",
    "    try:\n",
    "        root = ET.fromstring(line)\n",
    "        if \"PostTypeId\" and \"OwnerUserId\" and 'CreationDate' in root.attrib:\n",
    "            uid = root.attrib['OwnerUserId']\n",
    "            ptype = int(root.attrib['PostTypeId'])\n",
    "            cdate = root.attrib['CreationDate']\n",
    "            #a.attrib.get('Score',1)\n",
    "            answer = root.attrib.get(\"AnswerCount\",0)           \n",
    "            view = root.attrib.get(\"ViewCount\",0)           \n",
    "            fav = root.attrib.get(\"FavoriteCount\",0)            \n",
    "            s = root.attrib.get(\"Score\",0) \n",
    "            #filter out questions\n",
    "            if ptype == 1:\n",
    "                return (int(uid),cdate,int(answer),int(view),int(fav),int(s))\n",
    "            else:\n",
    "                return ('Empty')\n",
    "        else:\n",
    "            return ('Empty')\n",
    "    except:\n",
    "        return ('Empty')\n",
    "\n",
    "#find out the first questions date\n",
    "first_q= posts_long.map(post_first_question_more).filter(lambda x: x != 'Empty')\\\n",
    "              .map(lambda x: (x[0], parsetime(x[1])))\\\n",
    "              .reduceByKey(lambda x, y: min(x, y))\\\n",
    "              .map(lambda x: ((x[0],x[1]),1))\n",
    "\n",
    "#find out all questions' performance\n",
    "all_q = posts_long.map(post_first_question_more).filter(lambda x: x != 'Empty')\\\n",
    "              .map(lambda x: ((x[0],parsetime(x[1])),(x[2],x[3],x[4],x[5])))\n",
    "\n",
    "#merge (acount, first_question_date) with performances\n",
    "stats = first_q.join(all_q).map(lambda x: (x[0][0],(x[1][1][0],x[1][1][1],x[1][1][2],x[1][1][3])))\n",
    "\n",
    "##calculate average for veterian\n",
    "a,v,f,s,t=veteran.join(stats).map(lambda x: (x[0],(x[1][1][0],x[1][1][1],x[1][1][2],x[1][1][3])))\\\n",
    "                         .map(lambda x: (x[1][0],x[1][1],x[1][2],x[1][3],1))\\\n",
    "                         .reduce(lambda x,y: (x[0]+y[0],x[1]+y[1],x[2]+y[2],x[3]+y[3],x[4]+y[4]))       \n",
    "\n",
    "###calculate average for brief views\n",
    "a1,v1,f1,s1,t1=brief_views.join(stats).map(lambda x: (x[0],(x[1][1][0],x[1][1][1],x[1][1][2],x[1][1][3])))\\\n",
    "                         .map(lambda x: (x[1][0],x[1][1],x[1][2],x[1][3],1))\\\n",
    "                         .reduce(lambda x,y: (x[0]+y[0],x[1]+y[1],x[2]+y[2],x[3]+y[3],x[4]+y[4]))       \n",
    "\n",
    "#pass to lists\n",
    "lis=[s,v,a,f]\n",
    "lis1=[l/t for l in lis]\n",
    "\n",
    "lis=[s1,v1,a1,f1]\n",
    "lis2=[l/t1 for l in lis]\n",
    "\n",
    "lis1.extend(lis2)"
   ]
  },
  {
   "cell_type": "code",
   "execution_count": null,
   "metadata": {},
   "outputs": [],
   "source": [
    "lis1 = [2.2561266751584585,\n",
    " 1841.8189951718825,\n",
    " 1.841804785404288,\n",
    " 0.8661474978452715,\n",
    " 1.129298016272707,\n",
    " 1095.1468872554271,\n",
    " 1.5033659787554736,\n",
    " 0.3854817164205759]\n",
    "names=[\"vet_score\",\"vet_views\",\"vet_answers\",\"vet_favorites\",\"brief_score\",\"brief_views\",\"brief_answers\",\"brief_favorites\"]\n",
    "identify_veterans_full = {n:l for n,l in zip(names,lis1)}"
   ]
  },
  {
   "cell_type": "code",
   "execution_count": null,
   "metadata": {
    "slideshow": null
   },
   "outputs": [],
   "source": [
    "# identify_veterans_full = {\n",
    "#     \"vet_score\": 0,\n",
    "#     \"vet_views\": 0,\n",
    "#     \"vet_answers\": 0,\n",
    "#     \"vet_favorites\": 0,\n",
    "#     \"brief_score\": 0,\n",
    "#     \"brief_views\": 0,\n",
    "#     \"brief_answers\": 0,\n",
    "#     \"brief_favorites\": 0\n",
    "# }\n",
    "\n",
    "grader.score('spark__identify_veterans_full', identify_veterans_full)"
   ]
  },
  {
   "cell_type": "markdown",
   "metadata": {
    "slideshow": null
   },
   "source": [
    "## Word2vec\n"
   ]
  },
  {
   "cell_type": "markdown",
   "metadata": {
    "slideshow": null
   },
   "source": [
    "Word2Vec is an alternative approach for vectorizing text data. The vectorized representations of words in the vocabulary tend to be useful for predicting other words in the document, hence the famous example \"vector('king') - vector('man') + vector('woman') ~= vector('queen')\".\n",
    "\n",
    "Let's see how good a Word2Vec model we can train using the **tags** of each Stack Exchange post as documents (this uses the full data set). Use the implementation of Word2Vec from Spark ML (this will require using DataFrames) to return a list of the top 25 closest synonyms to \"ggplot2\" and their similarity score in tuple format (\"string\", number).\n",
    "\n",
    "The tags appear in the data as one string, you will need to separate them into individual tags. There is no need to further parse them beyond separating them."
   ]
  },
  {
   "cell_type": "code",
   "execution_count": null,
   "metadata": {},
   "outputs": [],
   "source": [
    "from pyspark.mllib.feature import Word2Vec\n",
    "import re\n",
    "\n",
    "def localpath(path):\n",
    "    return  'file://' + str(os.path.abspath(os.path.curdir)) + '/' + path\n",
    "\n",
    "def valid_xml(string):\n",
    "    if '<row' in string  and '/>' in string :\n",
    "        return 1\n",
    "    else:\n",
    "        return 0\n",
    "\n",
    "def extracttags(string):\n",
    "    try:\n",
    "        tree = etree.fromstring(string)\n",
    "        tags = tree.get(\"Tags\")\n",
    "        tags = tags[1:-1].split('><')\n",
    "        return tags\n",
    "    except: \n",
    "        return None\n",
    "\n",
    "posts_complete = sc.textFile(localpath('spark-stack-data/allPosts/part-*.xml.gz'))\n",
    "q8 = posts_complete.filter(valid_xml)\\\n",
    "    .map(extracttags)\\\n",
    "    .filter(lambda x:x is not None)\n",
    "    \n",
    "word2vec = Word2Vec()\n",
    "model = word2vec.fit(q8)\n",
    "\n",
    "synonyms = model.findSynonyms('ggplot2', 25)\n"
   ]
  },
  {
   "cell_type": "code",
   "execution_count": null,
   "metadata": {},
   "outputs": [],
   "source": [
    "syn_list = [(k,v) for (k,v) in synonyms]"
   ]
  },
  {
   "cell_type": "markdown",
   "metadata": {
    "slideshow": null
   },
   "source": [
    "#### Parameters\n"
   ]
  },
  {
   "cell_type": "markdown",
   "metadata": {
    "slideshow": null
   },
   "source": [
    "The dimensionality of the vector space should be 100. The random seed should be 42 in `PySpark`.\n"
   ]
  },
  {
   "cell_type": "markdown",
   "metadata": {
    "slideshow": null
   },
   "source": [
    "#### Checkpoints"
   ]
  },
  {
   "cell_type": "markdown",
   "metadata": {
    "slideshow": null
   },
   "source": [
    "* Mean of the top 25 cosine similarities: 0.8012362027168274"
   ]
  },
  {
   "cell_type": "code",
   "execution_count": null,
   "metadata": {
    "slideshow": null
   },
   "outputs": [],
   "source": [
    "# word2vec = [(\"data.frame\", 0.772650957107544)] * 25\n",
    "\n",
    "grader.score('spark__word2vec', syn_list )"
   ]
  },
  {
   "cell_type": "markdown",
   "metadata": {
    "slideshow": null
   },
   "source": [
    "## Classification\n"
   ]
  },
  {
   "cell_type": "markdown",
   "metadata": {
    "slideshow": null
   },
   "source": [
    "We'd like to see if we can predict the tags of a **question** from its body text. Instead of predicting specific tags, we will instead try to predict if a question contains one of the top ten most common tags.  \n",
    "\n",
    "To this end, we have separated out a train and a test set from the original data.  The training and tests sets were downloaded with the stats data at the beginning of the notebook.  You can also get them from S3:\n",
    "  * `s3://dataincubator-course/spark-stats-data/posts_train.zip`\n",
    "  * `s3://dataincubator-course/spark-stats-data/posts_test.zip`\n",
    "\n",
    "This will involve two steps: first, find the ten most common tags for questions in the training data set (the tags have been removed from the test set). Then train a learner to predict from the text of the question (the `Body` attribute) if it should have one of those ten tags in it - you will need to process the question text with NLP techniques such as splitting the text into tokens.\n",
    "\n",
    "Since we can't reliably pickle Spark models, instead return a list of your predictions, sorted by the question's `Id`.  This sorting is very important, as our grader expects the results to be submitted in a particular order. These predictions should be `0` if the question isn't expected to have a tag in the top ten, and `1` if it is.\n",
    "\n",
    "As an example, if our top tags include `spark` and `python`, and we had the following questions:\n",
    "\n",
    "```\n",
    "<row Body=\"...\" Id=\"1740\" Tags=\"<machine-learning><spark><regression>\" ... />\n",
    "<row Body=\"...\" Id=\"723\" Tags=\"<statistics><neurons>\" ... />\n",
    "<row Body=\"...\" Id=\"2740\" Tags=\"<functional><python><spark><pyspark>\" ... />\n",
    "```\n",
    "\n",
    "We would expect to return `[0, 1, 1]` (for the order `[723, 1740, 2740]`).  You may need to do some format manipulation in your DataFrame to get this."
   ]
  },
  {
   "cell_type": "markdown",
   "metadata": {
    "slideshow": null
   },
   "source": [
    "#### Checkpoints"
   ]
  },
  {
   "cell_type": "markdown",
   "metadata": {
    "slideshow": null
   },
   "source": [
    "- Number of training posts with a tag in the top 10: `22525`\n",
    "- Number without: `19540`"
   ]
  },
  {
   "cell_type": "code",
   "execution_count": null,
   "metadata": {},
   "outputs": [],
   "source": [
    "from lxml import etree\n",
    "from lxml.etree import XMLSyntaxError\n",
    "\n",
    "def tag_post(line):\n",
    "    if '<row' in line:\n",
    "        try:\n",
    "            root = etree.fromstring(line)\n",
    "            if \"Tags\" in root.attrib:\n",
    "                tag = root.attrib['Tags']\n",
    "                return tag\n",
    "            else:\n",
    "                return ('Empty')\n",
    "        except XMLSyntaxError:\n",
    "            return ('Empty')\n",
    "    else:\n",
    "        return ('Empty')"
   ]
  },
  {
   "cell_type": "code",
   "execution_count": null,
   "metadata": {},
   "outputs": [],
   "source": [
    "tag_posts = posts.map(tag_post).filter(lambda x: x!= 'Empty')"
   ]
  },
  {
   "cell_type": "code",
   "execution_count": null,
   "metadata": {},
   "outputs": [],
   "source": [
    "import re"
   ]
  },
  {
   "cell_type": "code",
   "execution_count": null,
   "metadata": {},
   "outputs": [],
   "source": [
    "train = sc.textFile(localpath('spark-stats-data/train'))"
   ]
  },
  {
   "cell_type": "code",
   "execution_count": null,
   "metadata": {},
   "outputs": [],
   "source": [
    "def token_tag(string):\n",
    "    tokens= [s for s in re.split(\"<|>\", string) if s != '']\n",
    "    token_count=[(t,1) for t in tokens]\n",
    "    return token_count"
   ]
  },
  {
   "cell_type": "code",
   "execution_count": null,
   "metadata": {},
   "outputs": [],
   "source": [
    "string = '<bayesian><prior><elicitation>'"
   ]
  },
  {
   "cell_type": "code",
   "execution_count": null,
   "metadata": {},
   "outputs": [],
   "source": [
    "token_tag(string)"
   ]
  },
  {
   "cell_type": "code",
   "execution_count": null,
   "metadata": {},
   "outputs": [],
   "source": [
    "common_tags = train.map(tag_post).filter(lambda x: x != 'Empty')\\\n",
    "                   .flatMap(token_tag).reduceByKey(lambda x,y: x+y)\\\n",
    "                   .takeOrdered(10, key=lambda x: -x[1])"
   ]
  },
  {
   "cell_type": "code",
   "execution_count": null,
   "metadata": {},
   "outputs": [],
   "source": [
    "tags = [t[0] for t in common_tags]\n",
    "tags"
   ]
  },
  {
   "cell_type": "code",
   "execution_count": null,
   "metadata": {},
   "outputs": [],
   "source": [
    "def token_check(string):\n",
    "    tokens= [s for s in re.split(\"<|>\", string) if s != '']\n",
    "    for t in tags:\n",
    "        if t in tokens:\n",
    "            return 1\n",
    "    else:\n",
    "        return 0"
   ]
  },
  {
   "cell_type": "code",
   "execution_count": null,
   "metadata": {},
   "outputs": [],
   "source": [
    "string ='<regression><tag>'\n",
    "token_check(string)"
   ]
  },
  {
   "cell_type": "code",
   "execution_count": null,
   "metadata": {},
   "outputs": [],
   "source": [
    "p = re.compile('<p>(.+)</p>')\n",
    "\n",
    "p = re.compile('>(.+)<')"
   ]
  },
  {
   "cell_type": "code",
   "execution_count": null,
   "metadata": {},
   "outputs": [],
   "source": [
    "string = '<p>Last year, I read a blog post from <a href=\"http://anyall.org/\">Brendan O\\'Connor</a> entitled <a href=\"http://anyall.org/blog/2008/12/statistics-vs-machine-learning-fight/\">\"Statistics vs. Machine Learning, fight!\"</a> that discussed some of the differences between the two fields.  <a href=\"http://andrewgelman.com/2008/12/machine_learnin/\">Andrew Gelman responded favorably to this</a>:</p>\\n\\n<p>Simon Blomberg: </p>\\n\\n<blockquote>\\n  <p>From R\\'s fortunes\\n  package: To paraphrase provocatively,\\n  \\'machine learning is statistics minus\\n  any checking of models and\\n  assumptions\\'.\\n  -- Brian D. Ripley (about the difference between machine learning\\n  and statistics) useR! 2004, Vienna\\n  (May 2004) :-) Season\\'s Greetings!</p>\\n</blockquote>\\n\\n<p>Andrew Gelman:</p>\\n\\n<blockquote>\\n  <p>In that case, maybe we should get rid\\n  of checking of models and assumptions\\n  more often. Then maybe we\\'d be able to\\n  solve some of the problems that the\\n  machine learning people can solve but\\n  we can\\'t!</p>\\n</blockquote>\\n\\n<p>There was also the <a href=\"http://projecteuclid.org/euclid.ss/1009213726\"><strong>\"Statistical Modeling: The Two Cultures\"</strong> paper</a> by Leo Breiman in 2001 which argued that statisticians rely too heavily on data modeling, and that machine learning techniques are making progress by instead relying on the <em>predictive accuracy</em> of models.</p>\\n\\n<p>Has the statistics field changed over the last decade in response to these critiques?  Do the <em>two cultures</em> still exist or has statistics grown to embrace machine learning techniques such as neural networks and support vector machines?</p>\\n'\n",
    "''.join(p.findall(string))"
   ]
  },
  {
   "cell_type": "code",
   "execution_count": null,
   "metadata": {},
   "outputs": [],
   "source": [
    "def format_body(string):\n",
    "    p = re.compile('<p>(.+)</p>')\n",
    "    lis = p.findall(string)\n",
    "    return ''.join(p.findall(string))"
   ]
  },
  {
   "cell_type": "code",
   "execution_count": null,
   "metadata": {},
   "outputs": [],
   "source": [
    "def tag_post(line):\n",
    "    if '<row' in line:\n",
    "        try:\n",
    "            root = etree.fromstring(line)\n",
    "            if 'Body' and \"Tags\" in root.attrib:\n",
    "                body = root.attrib['Body']\n",
    "                tag = root.attrib['Tags']\n",
    "                return (body,token_check(tag))\n",
    "            else:\n",
    "                return ('Empty')\n",
    "        except XMLSyntaxError:\n",
    "            return ('Empty')\n",
    "    else:\n",
    "        return ('Empty')"
   ]
  },
  {
   "cell_type": "code",
   "execution_count": null,
   "metadata": {},
   "outputs": [],
   "source": [
    "\n",
    "train.map(tag_post).filter(lambda x: x != 'Empty').take(5)"
   ]
  },
  {
   "cell_type": "code",
   "execution_count": null,
   "metadata": {},
   "outputs": [],
   "source": [
    "train_set = train.map(tag_post).filter(lambda x: x != 'Empty').collect()"
   ]
  },
  {
   "cell_type": "code",
   "execution_count": null,
   "metadata": {},
   "outputs": [],
   "source": [
    "train.map(tag_post).filter(lambda x: x != 'Empty').filter(lambda x: x[1]==0).count()"
   ]
  },
  {
   "cell_type": "code",
   "execution_count": null,
   "metadata": {},
   "outputs": [],
   "source": [
    "from sklearn.pipeline import Pipeline\n",
    "from pyspark.sql import SQLContext\n",
    "sqlContext = SQLContext(sc)\n"
   ]
  },
  {
   "cell_type": "code",
   "execution_count": null,
   "metadata": {},
   "outputs": [],
   "source": [
    "from pyspark.ml.classification import LogisticRegression\n",
    "\n",
    "from pyspark.ml.classification import RandomForestClassifier\n",
    "\n",
    "from pyspark.ml.feature import HashingTF, Tokenizer,RegexTokenizer\n",
    "##save the computation from the traing process by cache()\n",
    "training = sqlContext.createDataFrame(train_set, [\"title\", \"label\"]).cache()"
   ]
  },
  {
   "cell_type": "code",
   "execution_count": null,
   "metadata": {},
   "outputs": [],
   "source": [
    "from pyspark.ml.feature import StopWordsRemover\n",
    "from pyspark.ml import Pipeline\n",
    "\n",
    "tokenizer = RegexTokenizer(inputCol=\"title\", outputCol=\"words\", pattern=\"\\\\w\")\n",
    "tokenizer = Tokenizer(inputCol=\"title\", outputCol=\"words\")\n",
    "remover = StopWordsRemover(inputCol=tokenizer.getOutputCol(), outputCol=\"filtered\")\n",
    "\n",
    "hashingTF = HashingTF(inputCol=remover.getOutputCol(), outputCol=\"features\")\n",
    "logreg = LogisticRegression(maxIter=1000000, regParam=0.7)\n",
    "\n",
    "pipeline = Pipeline(stages=[tokenizer,remover, hashingTF, logreg])\n",
    "\n",
    "from pyspark.ml.tuning import CrossValidator, ParamGridBuilder\n",
    "from pyspark.ml.evaluation import BinaryClassificationEvaluator\n",
    "\n",
    "\n",
    "paramGrid = (ParamGridBuilder() \n",
    "    .addGrid(hashingTF.numFeatures, [2000])\n",
    "    .addGrid(logreg.regParam, [10, 1, 0.2]) \n",
    "    .build())\n",
    "\n",
    "crossval = CrossValidator(estimator=pipeline,\n",
    "                          estimatorParamMaps=paramGrid,\n",
    "                          evaluator=BinaryClassificationEvaluator(),\n",
    "                          numFolds=5)"
   ]
  },
  {
   "cell_type": "code",
   "execution_count": null,
   "metadata": {},
   "outputs": [],
   "source": [
    "cvModel = crossval.fit(training)"
   ]
  },
  {
   "cell_type": "code",
   "execution_count": null,
   "metadata": {},
   "outputs": [],
   "source": [
    "best_model = cvModel.bestModel"
   ]
  },
  {
   "cell_type": "code",
   "execution_count": null,
   "metadata": {},
   "outputs": [],
   "source": [
    "test = sc.textFile(localpath('spark-stats-data/test'))"
   ]
  },
  {
   "cell_type": "code",
   "execution_count": null,
   "metadata": {},
   "outputs": [],
   "source": [
    "def tag_post_test(line):\n",
    "    if '<row' in line:\n",
    "        try:\n",
    "            root = etree.fromstring(line)\n",
    "            if 'Body' and 'Id' and \"PostTypeId\" in root.attrib:\n",
    "                if int(root.attrib['PostTypeId']) == 1:\n",
    "                    pid = root.attrib['Id']\n",
    "                    body = root.attrib['Body']\n",
    "                    return (body, int(pid))\n",
    "                else:\n",
    "                    return ('Empty') \n",
    "            else:\n",
    "                return ('Empty')\n",
    "        except XMLSyntaxError:\n",
    "            return ('Empty')\n",
    "    else:\n",
    "        return ('Empty')"
   ]
  },
  {
   "cell_type": "code",
   "execution_count": null,
   "metadata": {},
   "outputs": [],
   "source": [
    "test.map(tag_post_test).filter(lambda x: x != 'Empty').count()"
   ]
  },
  {
   "cell_type": "code",
   "execution_count": null,
   "metadata": {},
   "outputs": [],
   "source": [
    "test_set = test.map(tag_post_test).filter(lambda x: x != 'Empty')"
   ]
  },
  {
   "cell_type": "code",
   "execution_count": null,
   "metadata": {},
   "outputs": [],
   "source": [
    "test_df = sqlContext.createDataFrame(test_set, [\"title\", \"id\"])"
   ]
  },
  {
   "cell_type": "code",
   "execution_count": null,
   "metadata": {},
   "outputs": [],
   "source": [
    "test_df.show()"
   ]
  },
  {
   "cell_type": "code",
   "execution_count": null,
   "metadata": {},
   "outputs": [],
   "source": [
    "better_prediction = cvModel.transform(test_df)"
   ]
  },
  {
   "cell_type": "code",
   "execution_count": null,
   "metadata": {},
   "outputs": [],
   "source": [
    "better_prediction.show()"
   ]
  },
  {
   "cell_type": "code",
   "execution_count": null,
   "metadata": {},
   "outputs": [],
   "source": [
    "selected = better_prediction.select(\"id\", \"prediction\")"
   ]
  },
  {
   "cell_type": "code",
   "execution_count": null,
   "metadata": {},
   "outputs": [],
   "source": [
    "for row in selected.collect()[5]:\n",
    "    print(row)"
   ]
  },
  {
   "cell_type": "code",
   "execution_count": null,
   "metadata": {},
   "outputs": [],
   "source": [
    "sort_selected = selected.sort(\"id\").collect()"
   ]
  },
  {
   "cell_type": "code",
   "execution_count": null,
   "metadata": {},
   "outputs": [],
   "source": [
    "predictions = [int(x['prediction']) for x in sort_selected]\n",
    "len(predictions)"
   ]
  },
  {
   "cell_type": "code",
   "execution_count": null,
   "metadata": {
    "slideshow": null
   },
   "outputs": [],
   "source": [
    "# classification = [0] * 4649\n",
    "\n",
    "grader.score('spark__classification', predictions)"
   ]
  },
  {
   "cell_type": "markdown",
   "metadata": {
    "slideshow": null
   },
   "source": [
    "## K-means (ungraded)\n"
   ]
  },
  {
   "cell_type": "markdown",
   "metadata": {
    "slideshow": null
   },
   "source": [
    "From your trained Word2Vec model, pass the vectors into a K-means clustering algorithm. Create a plot of the sum of squared error by calculating the square root of the sum of the squared distances for each point and its assigned cluster. For an independent variable use either the number of clusters k or the dimension of the Word2Vec vectorization."
   ]
  },
  {
   "cell_type": "markdown",
   "metadata": {
    "slideshow": null
   },
   "source": [
    "*Copyright &copy; 2020 Pragmatic Institute. This content is licensed solely for personal use. Redistribution or publication of this material is strictly prohibited.*"
   ]
  }
 ],
 "metadata": {
  "kernelspec": {
   "display_name": "Python 3",
   "language": "python",
   "name": "python3"
  },
  "language_info": {
   "codemirror_mode": {
    "name": "ipython",
    "version": 3
   },
   "file_extension": ".py",
   "mimetype": "text/x-python",
   "name": "python",
   "nbconvert_exporter": "python",
   "pygments_lexer": "ipython3",
   "version": "3.8.5"
  },
  "nbclean": true
 },
 "nbformat": 4,
 "nbformat_minor": 4
}
