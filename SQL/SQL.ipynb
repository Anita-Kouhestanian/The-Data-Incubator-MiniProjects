{
 "cells": [
  {
   "cell_type": "code",
   "execution_count": null,
   "metadata": {
    "slideshow": null
   },
   "outputs": [],
   "source": [
    "import seaborn as sns\n",
    "sns.set()"
   ]
  },
  {
   "cell_type": "code",
   "execution_count": null,
   "metadata": {
    "slideshow": null
   },
   "outputs": [],
   "source": [
    "from static_grader import grader"
   ]
  },
  {
   "cell_type": "markdown",
   "metadata": {
    "slideshow": null
   },
   "source": [
    "# SQL Miniproject\n"
   ]
  },
  {
   "cell_type": "markdown",
   "metadata": {
    "slideshow": null
   },
   "source": [
    "## Introduction\n"
   ]
  },
  {
   "cell_type": "markdown",
   "metadata": {
    "slideshow": null
   },
   "source": [
    "The city of New York does restaurant inspections and assigns a grade. Inspections data for the last 4 years are available on s3 as an SQLite database, which you can import in the next few cells. These were extracted from a set of csv files and an XLS file, as described in the <b>How we loaded the data</b> section\n",
    "\n",
    "\n",
    "The raw data can be found [here](https://s3.amazonaws.com/dataincubator-course/coursedata/nyc_inspection_data.zip) and can be useful to look at. The file `RI_Webextract_BigApps_Latest.xls` contains a description of each of the data files and what the columns mean."
   ]
  },
  {
   "cell_type": "code",
   "execution_count": null,
   "metadata": {
    "slideshow": null
   },
   "outputs": [],
   "source": [
    "!aws s3 sync s3://dataincubator-course/coursedata/ . --exclude '*' --include 'nyc_inspection.db'"
   ]
  },
  {
   "cell_type": "code",
   "execution_count": null,
   "metadata": {
    "slideshow": null
   },
   "outputs": [],
   "source": [
    "#This will load the pre-existing tables\n",
    "%load_ext sql\n",
    "%sql sqlite:///nyc_inspection.db"
   ]
  },
  {
   "cell_type": "code",
   "execution_count": null,
   "metadata": {},
   "outputs": [],
   "source": [
    "import sys\n",
    "import re\n",
    "import sqlite3\n",
    "\n",
    "con = sqlite3.connect('nyc_inspection.db')\n",
    "con.enable_load_extension(True)\n",
    "con.text_factory = str\n",
    "c = con.cursor()  "
   ]
  },
  {
   "cell_type": "code",
   "execution_count": null,
   "metadata": {},
   "outputs": [],
   "source": [
    "result = con.execute(\"SELECT * FROM webextract\")"
   ]
  },
  {
   "cell_type": "markdown",
   "metadata": {
    "slideshow": null
   },
   "source": [
    "To see what tables are in the database:"
   ]
  },
  {
   "cell_type": "code",
   "execution_count": null,
   "metadata": {
    "slideshow": null
   },
   "outputs": [],
   "source": [
    "%%sql\n",
    "SELECT * FROM sqlite_master\n",
    "WHERE type='table';"
   ]
  },
  {
   "cell_type": "markdown",
   "metadata": {
    "slideshow": null
   },
   "source": [
    "And to look at the format of an individual table (note that you may need to change types to get the answers in the right form):"
   ]
  },
  {
   "cell_type": "code",
   "execution_count": null,
   "metadata": {
    "slideshow": null
   },
   "outputs": [],
   "source": [
    "%%sql\n",
    "PRAGMA table_info(webextract)"
   ]
  },
  {
   "cell_type": "markdown",
   "metadata": {
    "slideshow": null
   },
   "source": [
    "## SQLite3\n"
   ]
  },
  {
   "cell_type": "markdown",
   "metadata": {
    "slideshow": null
   },
   "source": [
    "The project should be written in SQL. Between SQLite and PostgreSQL we recommend SQLite for this project.  You can use the SQLite command prompt by running this command in bash\n",
    "```bash\n",
    "sqlite3 cmd \"DROP TABLE IF EXISTS writer;\\\n",
    "CREATE TABLE IF NOT EXISTS writer (first_name, last_name, year);\\\n",
    "INSERT INTO writer VALUES ('William', 'Shakespeare', 1616);\\\n",
    "INSERT INTO writer VALUES ('Francis', 'Fitzgerald', 1896);\\\n",
    "\\\n",
    "SELECT * FROM writer;\\\n",
    "\"\n",
    "```\n",
    "Alternatively, you can run bash commands in a Jupyter notebook by prepending the `!` in a code cell (notice that we conveniently get the output displayed"
   ]
  },
  {
   "cell_type": "code",
   "execution_count": null,
   "metadata": {
    "slideshow": null
   },
   "outputs": [],
   "source": [
    "!sqlite3 cmd \"\"\"\\\n",
    "DROP TABLE IF EXISTS writer;\\\n",
    "CREATE TABLE IF NOT EXISTS writer (first_name, last_name, year);\\\n",
    "INSERT INTO writer VALUES ('William', 'Shakespeare', 1616);\\\n",
    "INSERT INTO writer VALUES ('Francis', 'Fitzgerald', 1896);\\\n",
    "\\\n",
    "SELECT * FROM writer;\\\n",
    "\"\"\""
   ]
  },
  {
   "cell_type": "markdown",
   "metadata": {
    "slideshow": null
   },
   "source": [
    "Finally, we use the [`ipython-sql` extension](https://github.com/catherinedevlin/ipython-sql#ipython-sql) by first loading this extension and then running our code with the \"magic\" command in the first line\n",
    "```python\n",
    "%%sql sqlite://\n",
    "```\n",
    "Notice that the output table is formatted nicely as a nice HTML table.\n",
    "\n",
    "This is our recommended technique.  However, the grader is expecting python objects and you may need to use list comprehensions to reformat this output"
   ]
  },
  {
   "cell_type": "code",
   "execution_count": null,
   "metadata": {
    "slideshow": null
   },
   "outputs": [],
   "source": [
    "%%sql \n",
    "DROP TABLE IF EXISTS writer;\n",
    "CREATE TABLE IF NOT EXISTS writer (first_name, last_name, year);\n",
    "INSERT INTO writer VALUES ('William', 'Shakespeare', 1616);\n",
    "INSERT INTO writer VALUES ('Francis', 'Fitzgerald', 1896);\n",
    "\n",
    "SELECT * FROM writer;"
   ]
  },
  {
   "cell_type": "code",
   "execution_count": null,
   "metadata": {
    "slideshow": null
   },
   "outputs": [],
   "source": [
    "result = _\n",
    "#This captures the output of the previous cell"
   ]
  },
  {
   "cell_type": "code",
   "execution_count": null,
   "metadata": {
    "slideshow": null
   },
   "outputs": [],
   "source": [
    "result"
   ]
  },
  {
   "cell_type": "markdown",
   "metadata": {
    "slideshow": null
   },
   "source": [
    "## How we loaded the data\n"
   ]
  },
  {
   "cell_type": "markdown",
   "metadata": {
    "slideshow": null
   },
   "source": [
    "For future reference, here is how you can load data in to SQL (with examples).  If you have a csv file you created with something like\n",
    "\n",
    "```\n",
    "!printf \"Name,Age\\nAlice,3\\nBob,10\" > sample.csv.nogit\n",
    "```\n",
    "\n",
    "\n",
    "Then SQLite has a convenient [`.import` function](https://sqlite.org/cli.html#csv_import) which can create tables from `.csv` files.\n",
    "\n",
    "```bash\n",
    "sqlite> .import sample.csv.nogit sample\n",
    "sqlite> SELECT * FROM sample;\n",
    "```\n",
    "\n",
    "The files may contain badly formatted text.  Unfortunately, this is all too common.  As a stop gap, remember that [`iconv`](https://linux.die.net/man/1/iconv) is a Unix utility that can convert files between different text encodings.\n",
    "\n",
    "Alternatively, you can also read csv files using pandas and convert that into SQL via some SQL magic (this is what we actually did).\n",
    "\n",
    "```\n",
    "import pandas as pd\n",
    "sample = pd.read_csv('sample.csv.nogit')\n",
    "%sql DROP TABLE IF EXISTS sample\n",
    "%sql PERSIST sample\n",
    "%sql SELECT * FROM sample;\n",
    "```"
   ]
  },
  {
   "cell_type": "markdown",
   "metadata": {
    "heading_collapsed": true,
    "slideshow": null
   },
   "source": [
    "## Question 1: Null entries\n"
   ]
  },
  {
   "cell_type": "markdown",
   "metadata": {
    "hidden": true,
    "slideshow": null
   },
   "source": [
    "Return the number of inspections (`CAMIS`, `INSPDATE` pairs) that do not have a score - i.e. where none of the rows with those (`CAMIS`, `INSPDATE`) values has a score. Remove the corresponding rows from the data set for the rest of the questions in the assignment.\n",
    "\n",
    "As an example we might see this:\n",
    "\n",
    "```\n",
    "SELECT CAMIS, INSPDATE, SCORE FROM webextract\n",
    "ORDER BY CAMIS, INSPDATE\n",
    "LIMIT 10\n",
    "```\n",
    "\n",
    "| `CAMIS` | `INSPDATE` | `SCORE` |\n",
    "| --- | --- | --- |\n",
    "| 30075445 | 2011-03-10 00:00:00 | 14.0 |\n",
    "| 30075445 | 2011-03-10 00:00:00 | 14.0 |\n",
    "| 30075445 | 2011-03-10 00:00:00 | 14.0 |\n",
    "| 30075445 | 2011-03-10 00:00:00 | None |\n",
    "| 30075445 | 2011-04-27 00:00:00 | None |\n",
    "| 30075445 | 2011-11-12 00:00:00 | None |\n",
    "| 30075445 | 2011-11-12 00:00:00 | None |\n",
    "| 30075445 | 2011-11-23 00:00:00 | 9.0 |\n",
    "| 30075445 | 2011-11-23 00:00:00 | 9.0 |\n",
    "| 30075445 | 2011-11-23 00:00:00 | 9.0 |\n",
    "\n",
    "We want to filter only those dates for a given `CAMIS` where _every_ score is NULL (or `None` in the Python output).  In this case, we would remove 2011-04-27 and 2011-11-12, but keep 2011-03-10 (and 2011-11-23, of course).  Our post-filtering table would be:\n",
    "\n",
    "| `CAMIS` | `INSPDATE` | `SCORE` |\n",
    "| --- | --- | --- |\n",
    "| 30075445 | 2011-03-10 00:00:00 | 14.0 |\n",
    "| 30075445 | 2011-03-10 00:00:00 | 14.0 |\n",
    "| 30075445 | 2011-03-10 00:00:00 | 14.0 |\n",
    "| 30075445 | 2011-03-10 00:00:00 | None |\n",
    "| 30075445 | 2011-11-23 00:00:00 | 9.0 |\n",
    "| 30075445 | 2011-11-23 00:00:00 | 9.0 |\n",
    "| 30075445 | 2011-11-23 00:00:00 | 9.0 |\n",
    "\n",
    "**Question:** How else might we have handled this?"
   ]
  },
  {
   "cell_type": "code",
   "execution_count": null,
   "metadata": {
    "hidden": true
   },
   "outputs": [],
   "source": [
    "%%sql\n",
    "SELECT * FROM webextract\n",
    "LIMIT 5"
   ]
  },
  {
   "cell_type": "code",
   "execution_count": null,
   "metadata": {
    "hidden": true,
    "slideshow": null
   },
   "outputs": [],
   "source": [
    "%%sql\n",
    "SELECT CAMIS, INSPDATE, count(score) as null_entries FROM webextract\n",
    "GROUP BY CAMIS, INSPDATE\n",
    "HAVING count(score) = 0"
   ]
  },
  {
   "cell_type": "code",
   "execution_count": null,
   "metadata": {
    "hidden": true
   },
   "outputs": [],
   "source": [
    "result = _"
   ]
  },
  {
   "cell_type": "code",
   "execution_count": null,
   "metadata": {
    "hidden": true
   },
   "outputs": [],
   "source": [
    "lst = [x for x in result]\n",
    "null_entries = 0 \n",
    "for i in range(len(result)):\n",
    "    null_entries+=1"
   ]
  },
  {
   "cell_type": "code",
   "execution_count": null,
   "metadata": {
    "hidden": true,
    "slideshow": null
   },
   "outputs": [],
   "source": [
    "grader.score('sql__null_entries', null_entries)"
   ]
  },
  {
   "cell_type": "markdown",
   "metadata": {
    "heading_collapsed": true,
    "slideshow": null
   },
   "source": [
    "## Question 2: Score by zip code\n"
   ]
  },
  {
   "cell_type": "markdown",
   "metadata": {
    "hidden": true,
    "slideshow": null
   },
   "source": [
    "Return a list of tuples of the form:\n",
    "\n",
    "    (zip code, mean score, number of restaurants)\n",
    "\n",
    "for each of the 87 zip codes in the city with over 100 restaurants. Use the score from the latest inspection date for each restaurant. Sort the list in ascending order by mean score.\n",
    "\n",
    "**Note:** There is an interesting discussion here about what the mean score *means* in this data set. Think about what we're actually calculating - does it represent what we're trying to understand about these zip codes?\n",
    "\n",
    "What if we use the average of a restaurant's inspections instead of the latest?\n",
    "\n",
    "**Checkpoints:**\n",
    "- Total unique restaurants: 24,361;\n",
    "- Total restaurants in valid zip codes: 19,172"
   ]
  },
  {
   "cell_type": "code",
   "execution_count": null,
   "metadata": {
    "hidden": true
   },
   "outputs": [],
   "source": [
    "%%sql\n",
    "DROP TABLE IF EXISTS temp_webextract;\n",
    "\n",
    "CREATE TABLE temp_webextract AS\n",
    "SELECT * FROM webextract\n",
    "WHERE CAMIS IN (SELECT CAMIS FROM webextract\n",
    "GROUP BY CAMIS, INSPDATE\n",
    "HAVING count(score) != 0);"
   ]
  },
  {
   "cell_type": "code",
   "execution_count": null,
   "metadata": {
    "hidden": true
   },
   "outputs": [],
   "source": [
    "%%sql\n",
    "SELECT count(*) FROM temp_webextract"
   ]
  },
  {
   "cell_type": "code",
   "execution_count": null,
   "metadata": {
    "hidden": true
   },
   "outputs": [],
   "source": [
    "%%sql\n",
    "SELECT SUM(C) FROM\n",
    "(SELECT COUNT(DISTINCT CAMIS) AS C FROM temp_webextract)"
   ]
  },
  {
   "cell_type": "code",
   "execution_count": null,
   "metadata": {
    "hidden": true,
    "scrolled": true
   },
   "outputs": [],
   "source": [
    "%%sql\n",
    "SELECT SUM(c) FROM\n",
    "(SELECT COUNT(DISTINCT CAMIS) AS c from temp_webextract\n",
    "GROUP BY zipcode \n",
    "HAVING COUNT(DISTINCT CAMIS)>100)"
   ]
  },
  {
   "cell_type": "code",
   "execution_count": null,
   "metadata": {
    "hidden": true
   },
   "outputs": [],
   "source": [
    "%%sql\n",
    "SELECT zipcode, camis, MAX(INSPDATE), score from temp_webextract\n",
    "GrOUP BY zipcode, Camis\n",
    "LIMIT 10"
   ]
  },
  {
   "cell_type": "code",
   "execution_count": null,
   "metadata": {
    "hidden": true,
    "slideshow": null
   },
   "outputs": [],
   "source": [
    "%%sql\n",
    "SELECT zipcode, AVG(score), COUNT(camis) from \n",
    "(SELECT zipcode, score, camis, MAX(INSPDATE) from temp_webextract\n",
    "GrOUP BY zipcode, Camis)\n",
    "GROUP BY zipcode \n",
    "HAVING COUNT(camis) >100\n",
    "ORDER BY AVG(score)"
   ]
  },
  {
   "cell_type": "code",
   "execution_count": null,
   "metadata": {
    "hidden": true
   },
   "outputs": [],
   "source": [
    "Result = _"
   ]
  },
  {
   "cell_type": "code",
   "execution_count": null,
   "metadata": {
    "hidden": true
   },
   "outputs": [],
   "source": [
    "score_by_zipcode = [(str(int(x)), y, z) for x,y,z in Result]"
   ]
  },
  {
   "cell_type": "code",
   "execution_count": null,
   "metadata": {
    "hidden": true
   },
   "outputs": [],
   "source": [
    "score_by_zipcode"
   ]
  },
  {
   "cell_type": "code",
   "execution_count": null,
   "metadata": {
    "hidden": true,
    "slideshow": null
   },
   "outputs": [],
   "source": [
    "# score_by_zipcode = [(\"11201\", 9.81739130434783, 345)] * 87\n",
    "\n",
    "grader.score('sql__score_by_zipcode', score_by_zipcode)"
   ]
  },
  {
   "cell_type": "markdown",
   "metadata": {
    "heading_collapsed": true,
    "slideshow": null
   },
   "source": [
    "## Question 3: Score by borough"
   ]
  },
  {
   "cell_type": "markdown",
   "metadata": {
    "hidden": true,
    "slideshow": null
   },
   "source": [
    "Return a list of tuples of the form:\n",
    "\n",
    "    (borough, mean score, number of restaurants)\n",
    "\n",
    "for each of the city's five boroughs. Use the latest score for each restaurant. Sort the list in ascending order by grade.\n",
    "\n",
    "**Hint:** You will have to perform a join with the `boroughs` table. The borough names should be reported in ALL CAPS.\n",
    "\n",
    "**Checkpoint:**\n",
    "- Total restaurants in valid boroughs: 24,350"
   ]
  },
  {
   "cell_type": "code",
   "execution_count": null,
   "metadata": {
    "hidden": true
   },
   "outputs": [],
   "source": [
    "%%sql \n",
    "SELECT * FROM temp_webextract\n",
    "LEFT OUTER JOIN boroughs\n",
    "ON temp_webextract.boro = boroughs.id\n",
    "LIMIT 10\n"
   ]
  },
  {
   "cell_type": "code",
   "execution_count": null,
   "metadata": {
    "hidden": true,
    "slideshow": null
   },
   "outputs": [],
   "source": [
    "%%sql\n",
    "SELECT SUM(c) FROM\n",
    "(SELECT boro, COUNT(DISTINCT CAMIS) AS c from temp_webextract\n",
    "WHERE boro in ('1', '2', '3', '4', '5')\n",
    "GROUP BY boro )"
   ]
  },
  {
   "cell_type": "code",
   "execution_count": null,
   "metadata": {
    "hidden": true
   },
   "outputs": [],
   "source": [
    "%%sql\n",
    "SELECT name, AVG(score), COUNT(camis) FROM\n",
    "(SELECT name, score, camis, MAX(INSPDATE) FROM temp_webextract \n",
    " LEFT OUTER JOIN boroughs\n",
    " ON temp_webextract.boro = boroughs.id\n",
    "GrOUP BY name, Camis)\n",
    "WHERE name in (\"THE BRONX\", \"MANHATTAN\", \"BROOKLYN\", \"STATEN ISLAND\", \"QUEENS\")\n",
    "GROUP BY name \n",
    "ORDER BY AVG(score)"
   ]
  },
  {
   "cell_type": "code",
   "execution_count": null,
   "metadata": {
    "hidden": true
   },
   "outputs": [],
   "source": [
    "Res = _"
   ]
  },
  {
   "cell_type": "code",
   "execution_count": null,
   "metadata": {
    "hidden": true
   },
   "outputs": [],
   "source": [
    "score_by_borough = [(x, y, z) for x,y,z in Res]"
   ]
  },
  {
   "cell_type": "code",
   "execution_count": null,
   "metadata": {
    "hidden": true
   },
   "outputs": [],
   "source": [
    "score_by_borough"
   ]
  },
  {
   "cell_type": "code",
   "execution_count": null,
   "metadata": {
    "hidden": true,
    "slideshow": null
   },
   "outputs": [],
   "source": [
    "# score_by_borough = [(\"MANHATTAN\", 10.7269875502402, 10201)] * 5\n",
    "grader.score('sql__score_by_borough', score_by_borough)"
   ]
  },
  {
   "cell_type": "markdown",
   "metadata": {
    "heading_collapsed": true,
    "slideshow": null
   },
   "source": [
    "## Question 4: Violations by cuisine\n"
   ]
  },
  {
   "cell_type": "markdown",
   "metadata": {
    "hidden": true,
    "slideshow": null
   },
   "source": [
    "We want to look at violations themselves now.  We'll need to think more carefully about what we're measuring, since most restaurants have many inspections with possibly multiple violations per inspection, or long stretches of inspections with no violations.\n",
    "\n",
    "There are many ways to deal with this normalization issue, but we'll go with a fairly straightforward one: dividing the number of violations by the length of time (in years) the restaurant has been open.  As a proxy for the length, we'll look at the difference between the oldest and newest inspection date, treating anything less than 30 days as 30 days (to account for those that were only inspected once, we'll assume everything was open for at least a month).\n",
    "\n",
    "Since there are so many restaurants, we'll group them by cuisine and do a weighted average by computing \n",
    "\n",
    "    (total violations for a cuisine) / (total restaurant-years for that cuisine)\n",
    "\n",
    "Return a list of 75 tuples of the form\n",
    "\n",
    "    (cuisine name, reports per restaurant-year)\n",
    "    \n",
    "for cuisines with at least 100 violations total, ordered by increasing number of reports per restaurant-year\n",
    "    \n",
    "**Note:** This isn't the only way to normalize things.  How would other ways affect the computation?  If you similarly wanted to compute an average score by cuisine, how might you go about doing that?\n",
    "    \n",
    "**Checkpoint:**\n",
    "- Total entries from valid cuisines: 522,410"
   ]
  },
  {
   "cell_type": "code",
   "execution_count": null,
   "metadata": {
    "hidden": true
   },
   "outputs": [],
   "source": [
    "%%sql \n",
    "DROP TABLE IF EXISTS ages;\n",
    "CREATE TABLE ages AS\n",
    "SELECT CODEDESC, SUM(age) AS age FROM\n",
    "(SELECT CODEDESC, (CASE WHEN  (JULIANDAY(MAX(inspdate))-JULIANDAY(MIN(inspdate)))< 30 THEN 30\n",
    "             ELSE  (JULIANDAY(MAX(inspdate))-JULIANDAY(MIN(inspdate)))\n",
    "        END)AS age FROM temp_webextract \n",
    "INNER JOIN cuisine\n",
    "ON temp_webextract.CUISINECODE = cuisine.CUISINECODE\n",
    "GROUP BY CODEDESC, camis)\n",
    "GROUP BY CODEDESC;\n",
    "\n"
   ]
  },
  {
   "cell_type": "code",
   "execution_count": null,
   "metadata": {
    "hidden": true
   },
   "outputs": [],
   "source": [
    "%%sql\n",
    " \n",
    "ORDER BY  (num_viol/(age*360)) "
   ]
  },
  {
   "cell_type": "code",
   "execution_count": null,
   "metadata": {
    "hidden": true
   },
   "outputs": [],
   "source": [
    "Result = _"
   ]
  },
  {
   "cell_type": "code",
   "execution_count": null,
   "metadata": {
    "hidden": true
   },
   "outputs": [],
   "source": [
    "score_by_cuisine = [(y, z) for y,z in Result]"
   ]
  },
  {
   "cell_type": "code",
   "execution_count": null,
   "metadata": {
    "hidden": true
   },
   "outputs": [],
   "source": [
    "len(score_by_cuisine)"
   ]
  },
  {
   "cell_type": "code",
   "execution_count": null,
   "metadata": {
    "hidden": true,
    "slideshow": null
   },
   "outputs": [],
   "source": [
    "# score_by_cuisine = [(\"French\", 20.3550686378036)] * 75\n",
    "\n",
    "grader.score('sql__score_by_cuisine', score_by_cuisine)"
   ]
  },
  {
   "cell_type": "markdown",
   "metadata": {
    "slideshow": null
   },
   "source": [
    "## Question 5: Specific violations by cuisine"
   ]
  },
  {
   "cell_type": "markdown",
   "metadata": {
    "slideshow": null
   },
   "source": [
    "Which cuisines tend to have a disproportionate number of what which violations? Answering this question isn't easy because you have to think carefully about normalizations.\n",
    "\n",
    "1. More popular cuisine categories will tend to have more violations just because they represent more restaurants.\n",
    "2. Similarly, some violations are more common.  For example, knowing that \"Equipment not easily movable or sealed to floor\" is a common violation for Chinese restaurants is not particularly helpful when it is a common violation for all restaurants.\n",
    "\n",
    "The right quantity is to look at is the conditional probability of a specific type of violation given a specific cuisine type and divide it by the unconditional probability of the violation for the entire population. Taking this ratio gives the right answer.  Return the 20 highest ratios of the form:\n",
    "\n",
    "    ((cuisine, violation), ratio, count)\n",
    "\n",
    "**Hint:**\n",
    "1. You might want to check out this [Stack Overflow post](http://stackoverflow.com/questions/972877/calculate-frequency-using-sql).\n",
    "2. The definition of a violation changes with time.  For example, 10A can mean two different things \"Toilet facility not maintained ...\" or \"Vermin or other live animal present ...\" when things were prior to 2003. To deal with this, you should limit your analysis to violation codes with end date after Jan 1, 2014. (This end date refers to the validity time ranges in `Violation.txt`).\n",
    "3. The ratios don't mean much when the number of violations of a given type and for a specific category are not large (why not?).  Be sure to filter these out.  We chose 100 as our cutoff.\n",
    "\n",
    "**Checkpoint:**\n",
    "- Top 20 ratios mean: 2.360652529900757"
   ]
  },
  {
   "cell_type": "code",
   "execution_count": null,
   "metadata": {},
   "outputs": [],
   "source": [
    "%%sql\n",
    "DROP TABLE IF EXISTS violation_endate;\n",
    "\n",
    "CREATE TABLE violation_endate AS \n",
    "SELECT A.CUISINECODE AS CUISINECODE, A.VIOLCODE AS VIOLCODE ,B.ENDDATE AS ENDDATE,\n",
    "A.COUNT0 AS COUNT0 FROM\n",
    "(SELECT CUISINECODE, VIOLCODE, COUNT(*) AS COUNT0 From temp_webextract\n",
    "Group By CUISINECODE, VIOLCODE\n",
    ") AS A\n",
    "INNER JOIN (SELECT VIOLATIONCODE,ENDDATE FROM violations) AS B\n",
    " ON A.VIOLCODE = B.VIOLATIONCODE\n",
    "WHERE ENDDATE>'2014-01-1 00:00:00'\n"
   ]
  },
  {
   "cell_type": "code",
   "execution_count": null,
   "metadata": {},
   "outputs": [],
   "source": [
    "%%sql\n",
    "SELECT * FROM violation_endate"
   ]
  },
  {
   "cell_type": "code",
   "execution_count": null,
   "metadata": {},
   "outputs": [],
   "source": [
    "%%sql\n",
    "DROP TABLE IF EXISTS cond_prob;\n",
    "\n",
    "CREATE TABLE cond_prob AS \n",
    "SELECT  A.CUISINECODE AS CUISINECODE, A.VIOLCODE AS VIOLCODE , A.COUNT0 * 1.0 / B.COUNT2 As Freq,\n",
    "A.COUNT0 AS COUNT0 From    \n",
    "(Select CUISINECODE, VIOLCODE,COUNT0 \n",
    "From   violation_endate \n",
    "Group By CUISINECODE, VIOLCODE\n",
    ") As A\n",
    "Inner Join (Select CUISINECODE, COUNT(*) As COUNT2\n",
    "            From   temp_webextract \n",
    "            Group By CUISINECODE\n",
    "            ) As B\n",
    "            On A.CUISINECODE = B.CUISINECODE"
   ]
  },
  {
   "cell_type": "code",
   "execution_count": null,
   "metadata": {},
   "outputs": [],
   "source": [
    "%%sql \n",
    "SELECT * FROM cond_prob\n",
    "LIMIT 5"
   ]
  },
  {
   "cell_type": "code",
   "execution_count": null,
   "metadata": {},
   "outputs": [],
   "source": [
    "%%sql\n",
    "DROP TABLE IF EXISTS new_webextract;\n",
    "\n",
    "CREATE TABLE new_webextract AS\n",
    "SELECT A.CUISINECODE AS CUISINECODE, A.VIOLCODE AS VIOLCODE ,B.ENDDATE AS ENDDATE FROM\n",
    "( SELECT CUISINECODE, VIOLCODE FROM temp_webextract) AS A\n",
    "INNER JOIN (SELECT VIOLATIONCODE,ENDDATE FROM violations) AS B\n",
    "ON A.VIOLCODE = B.VIOLATIONCODE\n",
    "WHERE ENDDATE>'2014-01-1';"
   ]
  },
  {
   "cell_type": "code",
   "execution_count": null,
   "metadata": {},
   "outputs": [],
   "source": [
    "%%sql \n",
    "SELECT * FROM new_webextract\n",
    "LIMIT 5"
   ]
  },
  {
   "cell_type": "code",
   "execution_count": null,
   "metadata": {},
   "outputs": [],
   "source": [
    "%%sql\n",
    "DROP TABLE IF EXISTS vio_table;\n",
    "CREATE TABLE vio_table AS\n",
    "Select A.VIOLCODE AS VIOLCODE,A.COUNT3 AS COUNT3, B.vio_count As TOTAL From    \n",
    "(Select VIOLCODE,COUNT(*) AS COUNT3\n",
    "From   new_webextract \n",
    "Group By VIOLCODE\n",
    ") As A\n",
    "Inner Join (\n",
    "Select Count(*) As vio_count\n",
    "From   new_webextract \n",
    ") As B"
   ]
  },
  {
   "cell_type": "code",
   "execution_count": null,
   "metadata": {},
   "outputs": [],
   "source": [
    "%%sql\n",
    "DROP TABLE IF EXISTS prob_vio;\n",
    "CREATE TABLE prob_vio AS\n",
    "SELECT VIOLCODE,COUNT3*1.0/TOTAL AS Prob_vio FROM vio_table GROUP BY VIOLCODE"
   ]
  },
  {
   "cell_type": "code",
   "execution_count": null,
   "metadata": {},
   "outputs": [],
   "source": [
    "%%sql\n",
    "\n",
    "DROP TABLE IF EXISTS final_table;\n",
    "\n",
    "CREATE TABLE final_table AS\n",
    "Select A.CUISINECODE AS CUISINECODE, B.VIOLCODE AS VIOLCODE, A.Freq/B.Prob_vio As RATIO, A.COUNT0 AS COUNT0 From\n",
    "(Select CUISINECODE,VIOLCODE,Freq,COUNT0 \n",
    "From cond_prob \n",
    "WHERE COUNT0>100) As A\n",
    "Inner Join (Select VIOLCODE, Prob_vio\n",
    "From   prob_vio \n",
    ") As B\n",
    "On A.VIOLCODE = B.VIOLCODE"
   ]
  },
  {
   "cell_type": "code",
   "execution_count": null,
   "metadata": {},
   "outputs": [],
   "source": [
    "%%sql\n",
    "SELECT * FROM final_table\n"
   ]
  },
  {
   "cell_type": "code",
   "execution_count": null,
   "metadata": {},
   "outputs": [],
   "source": [
    "%%sql\n",
    "DROP TABLE IF EXISTS final;\n",
    "CREATE TABLE final AS\n",
    "SELECT * FROM final_table\n",
    "JOIN cuisine\n",
    "ON final_table.CUISINECODE = cuisine.CUISINECODE\n"
   ]
  },
  {
   "cell_type": "code",
   "execution_count": null,
   "metadata": {},
   "outputs": [],
   "source": [
    "%%sql\n",
    "SELECT * FROM final"
   ]
  },
  {
   "cell_type": "code",
   "execution_count": null,
   "metadata": {},
   "outputs": [],
   "source": [
    "%%sql \n",
    "DROP TABLE IF EXISTS viol;\n",
    "CREATE TABLE viol AS\n",
    "SELECT * FROM violations\n",
    "WHERE enddate > '2014-01-01'\n"
   ]
  },
  {
   "cell_type": "code",
   "execution_count": null,
   "metadata": {},
   "outputs": [],
   "source": [
    "%%sql\n",
    "SELECT * FROM viol"
   ]
  },
  {
   "cell_type": "code",
   "execution_count": null,
   "metadata": {},
   "outputs": [],
   "source": [
    "%%sql\n",
    "DROP TABLE IF EXISTS new_final;\n",
    "CREATE TABLE new_final AS\n",
    "SELECT CODEDESC, violationdesc, RATIO, COUNT0  FROM final\n",
    "LEFT OUTER JOIN viol\n",
    "ON final.violcode = viol.violationcode\n"
   ]
  },
  {
   "cell_type": "code",
   "execution_count": null,
   "metadata": {},
   "outputs": [],
   "source": [
    "%%sql \n",
    "SELECT * FROM new_final"
   ]
  },
  {
   "cell_type": "code",
   "execution_count": null,
   "metadata": {},
   "outputs": [],
   "source": [
    "%%sql\n",
    "SELECT * FROM new_final\n",
    "ORDER BY RATIO DESC\n",
    "LIMIT 20"
   ]
  },
  {
   "cell_type": "code",
   "execution_count": null,
   "metadata": {},
   "outputs": [],
   "source": [
    "RESULT = _"
   ]
  },
  {
   "cell_type": "code",
   "execution_count": null,
   "metadata": {},
   "outputs": [],
   "source": [
    "violation_by_cuisine = [((x,y), w,z) for x,y,w,z in RESULT]"
   ]
  },
  {
   "cell_type": "code",
   "execution_count": null,
   "metadata": {},
   "outputs": [],
   "source": [
    "violation_by_cuisine"
   ]
  },
  {
   "cell_type": "code",
   "execution_count": null,
   "metadata": {
    "slideshow": null
   },
   "outputs": [],
   "source": [
    "# violation_by_cuisine = [\n",
    "#     ((\"Café/Coffee/Tea\",\n",
    "#       \"Toilet facility not maintained and provided with toilet paper; \"\n",
    "#       \"waste receptacle and self-closing door.\"),\n",
    "#      1.87684775827172, 315)] * 20\n",
    "\n",
    "grader.score('sql__violation_by_cuisine', violation_by_cuisine)"
   ]
  },
  {
   "cell_type": "markdown",
   "metadata": {
    "slideshow": null
   },
   "source": [
    "*Copyright &copy; 2020 Pragmatic Institute. This content is licensed solely for personal use. Redistribution or publication of this material is strictly prohibited.*"
   ]
  }
 ],
 "metadata": {
  "kernelspec": {
   "display_name": "Python 3",
   "language": "python",
   "name": "python3"
  },
  "language_info": {
   "codemirror_mode": {
    "name": "ipython",
    "version": 3
   },
   "file_extension": ".py",
   "mimetype": "text/x-python",
   "name": "python",
   "nbconvert_exporter": "python",
   "pygments_lexer": "ipython3",
   "version": "3.8.5"
  },
  "nbclean": true
 },
 "nbformat": 4,
 "nbformat_minor": 4
}
