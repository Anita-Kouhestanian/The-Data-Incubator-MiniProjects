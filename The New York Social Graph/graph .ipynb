{
 "cells": [
  {
   "cell_type": "code",
   "execution_count": null,
   "metadata": {
    "slideshow": null
   },
   "outputs": [],
   "source": [
    "import seaborn as sns\n",
    "sns.set()"
   ]
  },
  {
   "cell_type": "code",
   "execution_count": null,
   "metadata": {
    "slideshow": null
   },
   "outputs": [],
   "source": [
    "from static_grader import grader"
   ]
  },
  {
   "cell_type": "markdown",
   "metadata": {
    "slideshow": null
   },
   "source": [
    "# The New York Social Graph\n"
   ]
  },
  {
   "cell_type": "markdown",
   "metadata": {
    "slideshow": null
   },
   "source": [
    "[New York Social Diary](https://web.archive.org/web/20150913224145/http://www.newyorksocialdiary.com/) provides a\n",
    "fascinating lens onto New York's socially well-to-do.  The data forms a natural social graph for New York's social elite.  Take a look at this page of a recent [run-of-the-mill holiday party](https://web.archive.org/web/20150913224145/http://www.newyorksocialdiary.com/party-pictures/2014/holiday-dinners-and-doers). Please note that these links point to the internet archive, as the original website has recently removed most of its archives. Many of the images no longer load, but all the HTML is still there.\n",
    "\n",
    "Besides the brand-name celebrities, you will notice the photos have carefully annotated captions labeling those that appear in the photos.  We can think of this as implicitly implying a social graph: there is a connection between two individuals if they appear in a picture together.\n",
    "\n",
    "For this project, we will assemble the social graph from photo captions for parties dated December 1, 2014, and before.  Using this graph, we can make guesses at the most popular socialites, the most influential people, and the most tightly coupled pairs.\n",
    "\n",
    "We will attack the project in three phases:\n",
    "1. Get a list of all the photo pages to be analyzed.\n",
    "2. Parse all of the captions on a sample page.\n",
    "3. Parse all of the captions on all pages, and assemble the graph."
   ]
  },
  {
   "cell_type": "markdown",
   "metadata": {
    "slideshow": null
   },
   "source": [
    "## Phase One\n"
   ]
  },
  {
   "cell_type": "markdown",
   "metadata": {
    "slideshow": null
   },
   "source": [
    "The first step is to crawl the data.  We want photos from parties on or before December 1st, 2014.  Go to the [Party Pictures Archive](https://web.archive.org/web/20150913224145/http://www.newyorksocialdiary.com/party-pictures) to see a list of (party) pages.  We want to get the url for each party page, along with its date.\n",
    "\n",
    "Here are some packages that you may find useful.  You are welcome to use others, if you prefer."
   ]
  },
  {
   "cell_type": "code",
   "execution_count": null,
   "metadata": {
    "slideshow": null
   },
   "outputs": [],
   "source": [
    "import requests\n",
    "import dill\n",
    "from bs4 import BeautifulSoup\n",
    "from datetime import datetime\n",
    "import re\n",
    "import numpy as np\n",
    "import os \n",
    "os.environ['KMP_DUPLICATE_LIB_OK']='True'"
   ]
  },
  {
   "cell_type": "markdown",
   "metadata": {
    "slideshow": null
   },
   "source": [
    "We recommend using Python [Requests](http://docs.python-requests.org/en/master/) to download the HTML pages, and [BeautifulSoup](https://www.crummy.com/software/BeautifulSoup/) to process the HTML.  Let's start by getting the [first page](https://web.archive.org/web/20150913224145/http://www.newyorksocialdiary.com/party-pictures)."
   ]
  },
  {
   "cell_type": "code",
   "execution_count": null,
   "metadata": {
    "slideshow": null
   },
   "outputs": [],
   "source": [
    "url = \"https://web.archive.org/web/20150913224145/http://www.newyorksocialdiary.com/party-pictures\"\n",
    "page = requests.get(url) # Use requests.get to download the page.\n"
   ]
  },
  {
   "cell_type": "markdown",
   "metadata": {
    "slideshow": null
   },
   "source": [
    "Now, we process the text of the page with BeautifulSoup."
   ]
  },
  {
   "cell_type": "code",
   "execution_count": null,
   "metadata": {
    "slideshow": null
   },
   "outputs": [],
   "source": [
    "soup = BeautifulSoup(page.text, \"lxml\") # lxml gets rid of the parser choice warning"
   ]
  },
  {
   "cell_type": "markdown",
   "metadata": {
    "slideshow": null
   },
   "source": [
    "This page has links to 50 party pages. Look at the structure of the page and determine how to isolate those links.  Your browser's developer tools (usually `Cmd`-`Option`-`I` on Mac, `Ctrl`-`Shift`-`I` on others) offer helpful tools to explore the structure of the HTML page.\n",
    "\n",
    "Once you have found a pattern, use BeautifulSoup's [select](https://www.crummy.com/software/BeautifulSoup/bs4/doc/#css-selectors) or [find_all](https://www.crummy.com/software/BeautifulSoup/bs4/doc/#find) methods to get those elements."
   ]
  },
  {
   "cell_type": "code",
   "execution_count": null,
   "metadata": {
    "slideshow": null
   },
   "outputs": [],
   "source": [
    "links =soup.find_all('div', attrs={'class': 'views-row'})"
   ]
  },
  {
   "cell_type": "markdown",
   "metadata": {
    "slideshow": null
   },
   "source": [
    "There should be 50 per page."
   ]
  },
  {
   "cell_type": "code",
   "execution_count": null,
   "metadata": {
    "slideshow": null
   },
   "outputs": [],
   "source": [
    "assert len(links) == 50"
   ]
  },
  {
   "cell_type": "markdown",
   "metadata": {
    "slideshow": null
   },
   "source": [
    "Let's take a look at that first link.  Figure out how to extract the URL of the link, as well as the date.  You probably want to use `datetime.strptime`.  See the [format codes for dates](https://docs.python.org/3/library/datetime.html#strftime-and-strptime-behavior) for reference."
   ]
  },
  {
   "cell_type": "code",
   "execution_count": null,
   "metadata": {
    "slideshow": null
   },
   "outputs": [],
   "source": [
    "link = links[0]\n",
    "# Check that the title and date match what you see visually."
   ]
  },
  {
   "cell_type": "markdown",
   "metadata": {
    "slideshow": null
   },
   "source": [
    "For purposes of code reuse, let's put that logic into a function.  It should take the link element and return the URL and date parsed from it."
   ]
  },
  {
   "cell_type": "code",
   "execution_count": null,
   "metadata": {
    "slideshow": null
   },
   "outputs": [],
   "source": [
    "def get_link_date(el):\n",
    "   #get the link\n",
    "    url = 'https://web.archive.org/web/20150913224145/http://www.newyorksocialdiary.com' + el.a['href']   \n",
    "    #get the date   \n",
    "    #first child span\n",
    "    first_span = el.find('span', attrs={'class': 'views-field-created'})\n",
    "    #seond child spand that is actually the date of the party\n",
    "    second_span = first_span.find('span', attrs = {'class' : 'field-content'}).text.encode('utf-8')\n",
    "    #this following party_time retunrs the dates as strings\n",
    "    #party_date = datetime.strptime(second_span, '%A, %B %d, %Y').strftime('%Y, %m, %d')\n",
    "    #following returns the dates as date times\n",
    "    date = datetime.strptime(second_span.decode('ascii'), '%A, %B %d, %Y')\n",
    "    return url, date"
   ]
  },
  {
   "cell_type": "markdown",
   "metadata": {
    "slideshow": null
   },
   "source": [
    "You may want to check that it works as you expected.\n",
    "\n",
    "Once that's working, let's write another function to parse all of the links on a page.  Thinking ahead, we can make it take a Requests [Response](https://requests.readthedocs.io/en/master/api/#requests.Response) object and do the BeautifulSoup parsing within it."
   ]
  },
  {
   "cell_type": "code",
   "execution_count": null,
   "metadata": {
    "slideshow": null
   },
   "outputs": [],
   "source": [
    "def get_links(response):\n",
    "    response.text[:1000] + \"...\"\n",
    "    soup = BeautifulSoup(response.text, \"lxml\")\n",
    "    l = soup.find_all('div', attrs={'class':'views-row'})\n",
    "    links = []\n",
    "    for link in l:\n",
    "        links.append(get_link_date(link))\n",
    "    return links # A list of URL, date pairs"
   ]
  },
  {
   "cell_type": "markdown",
   "metadata": {
    "slideshow": null
   },
   "source": [
    "If we run this on the previous response, we should get 50 pairs."
   ]
  },
  {
   "cell_type": "code",
   "execution_count": null,
   "metadata": {
    "slideshow": null
   },
   "outputs": [],
   "source": [
    "get_links(page)"
   ]
  },
  {
   "cell_type": "markdown",
   "metadata": {
    "slideshow": null
   },
   "source": [
    "But we only want parties with dates on or before the first of December, 2014.  Let's write a function to filter our list of dates to those at or before a cutoff.  Using a keyword argument, we can put in a default cutoff, but allow us to test with others."
   ]
  },
  {
   "cell_type": "code",
   "execution_count": null,
   "metadata": {
    "slideshow": null
   },
   "outputs": [],
   "source": [
    "def filter_by_date(links, cutoff=datetime(2014, 12, 1)):\n",
    "    before2014 = []\n",
    "    for l in links:\n",
    "        if l[1] <= cutoff:\n",
    "            before2014.append(l)\n",
    "    return before2014\n",
    "    # Return only the elements with date <= cutoff"
   ]
  },
  {
   "cell_type": "markdown",
   "metadata": {
    "slideshow": null
   },
   "source": [
    "With the default cutoff, there should be no valid parties on the first page.  Adjust the cutoff date to check that it is actually working."
   ]
  },
  {
   "cell_type": "code",
   "execution_count": null,
   "metadata": {
    "slideshow": null
   },
   "outputs": [],
   "source": [
    "assert len(filter_by_date(get_links(page))) == 0"
   ]
  },
  {
   "cell_type": "markdown",
   "metadata": {
    "slideshow": null
   },
   "source": [
    "Now we should be ready to get all of the party URLs.  Click through a few of the index pages to determine how the URL changes.  Figure out a strategy to visit all of them.\n",
    "\n",
    "HTTP requests are generally IO-bound.  This means that most of the time is spent waiting for the remote server to respond.  If you use `requests` directly, you can only wait on one response at a time.  [requests-futures](https://github.com/ross/requests-futures) lets you wait for multiple requests at a time.  You may wish to use this to speed up the downloading process."
   ]
  },
  {
   "cell_type": "code",
   "execution_count": null,
   "metadata": {
    "slideshow": null
   },
   "outputs": [],
   "source": [
    "from requests_futures.sessions import FuturesSession\n",
    "\n",
    "link_list = []\n",
    "session = FuturesSession(max_workers=5)\n",
    "urls = [\"https://web.archive.org/web/20150913224145/http://www.newyorksocialdiary.com/party-pictures?page=\" + str(i) for i in range(26)]\n",
    "futures = [session.get(url) for url in urls]\n",
    "for future in futures:\n",
    "    link_list.extend(get_links(future.result()))\n",
    "    \n",
    "link_list = filter_by_date(link_list, cutoff=datetime(2014, 12, 1))\n",
    "# You can use link_list.extend(others) to add the elements of others\n",
    "# to link_list."
   ]
  },
  {
   "cell_type": "markdown",
   "metadata": {
    "slideshow": null
   },
   "source": [
    "In the end, you should have 1193 parties."
   ]
  },
  {
   "cell_type": "code",
   "execution_count": null,
   "metadata": {
    "slideshow": null
   },
   "outputs": [],
   "source": [
    "assert len(link_list) == 1193"
   ]
  },
  {
   "cell_type": "markdown",
   "metadata": {
    "slideshow": null
   },
   "source": [
    "In case we need to restart the notebook, we should save this information to a file.  There are many ways you could do this; here's one using `dill`."
   ]
  },
  {
   "cell_type": "code",
   "execution_count": null,
   "metadata": {
    "slideshow": null
   },
   "outputs": [],
   "source": [
    "dill.dump(link_list, open('nysd-links.pkd', 'wb'))"
   ]
  },
  {
   "cell_type": "markdown",
   "metadata": {
    "slideshow": null
   },
   "source": [
    "To restore the list, we can just load it from the file.  When the notebook is restarted, you can skip the code above and just run this command."
   ]
  },
  {
   "cell_type": "code",
   "execution_count": null,
   "metadata": {
    "slideshow": null
   },
   "outputs": [],
   "source": [
    "link_list = dill.load(open('nysd-links.pkd', 'rb'))"
   ]
  },
  {
   "cell_type": "markdown",
   "metadata": {
    "slideshow": null
   },
   "source": [
    "## Question 1: histogram\n"
   ]
  },
  {
   "cell_type": "markdown",
   "metadata": {
    "slideshow": null
   },
   "source": [
    "Get the number of party pages for the 95 months (that is, month-year pair) in the data.  Represent this histogram as a list of 95 tuples, each of the form `(\"Dec-2014\", 1)`.  Note that you can convert `datetime` objects into these sort of strings with `strftime` and the [format codes for dates](https://docs.python.org/3/library/datetime.html#strftime-and-strptime-behavior).\n",
    "\n",
    "Plot the histogram for yourself.  Do you see any trends?"
   ]
  },
  {
   "cell_type": "code",
   "execution_count": null,
   "metadata": {},
   "outputs": [],
   "source": [
    "date_of_parties = [l[1] for l in link_list]\n",
    "month_of_parties = [d.strftime('%b-%Y') for d in date_of_parties]\n",
    "\n",
    "link_list_months = []\n",
    "\n",
    "for i in range(len(link_list)):\n",
    "    link_list_months.append([link_list[i][0], month_of_parties[i]])"
   ]
  },
  {
   "cell_type": "code",
   "execution_count": null,
   "metadata": {
    "slideshow": null
   },
   "outputs": [],
   "source": [
    "from collections import Counter\n",
    "def histogram():   \n",
    "     return list(Counter(month_of_parties).items())"
   ]
  },
  {
   "cell_type": "code",
   "execution_count": null,
   "metadata": {
    "slideshow": null
   },
   "outputs": [],
   "source": [
    "grader.score('graph__histogram', histogram)"
   ]
  },
  {
   "cell_type": "markdown",
   "metadata": {
    "slideshow": null
   },
   "source": [
    "## Phase Two\n"
   ]
  },
  {
   "cell_type": "markdown",
   "metadata": {
    "slideshow": null
   },
   "source": [
    "In this phase, we concentrate on getting the names out of captions for a given page.  We'll start with [the benefit cocktails and dinner](https://web.archive.org/web/20150913224145/http://www.newyorksocialdiary.com/party-pictures/2015/celebrating-the-neighborhood) for [Lenox Hill Neighborhood House](http://www.lenoxhill.org/), a neighborhood organization for the East Side.\n",
    "\n",
    "Take a look at that page.  Note that some of the text on the page is captions, but others are descriptions of the event.  Determine how to select only the captions."
   ]
  },
  {
   "cell_type": "code",
   "execution_count": null,
   "metadata": {
    "slideshow": null
   },
   "outputs": [],
   "source": [
    "captions = ..."
   ]
  },
  {
   "cell_type": "markdown",
   "metadata": {
    "slideshow": null
   },
   "source": [
    "By our count, there are about 110.  But if you're off by a couple, you're probably okay."
   ]
  },
  {
   "cell_type": "code",
   "execution_count": null,
   "metadata": {
    "slideshow": null
   },
   "outputs": [],
   "source": [
    "assert abs(len(captions) - 110) < 5"
   ]
  },
  {
   "cell_type": "markdown",
   "metadata": {
    "slideshow": null
   },
   "source": [
    "Let's encapsulate this in a function.  As with the links pages, we want to avoid downloading a given page the next time we need to run the notebook.  While we could save the files by hand, as we did before, a checkpoint library like [ediblepickle](https://pypi.python.org/pypi/ediblepickle/1.1.3) can handle this for you.  (Note, though, that you may not want to enable this until you are sure that your function is working.)\n",
    "\n",
    "You should also keep in mind that HTTP requests fail occasionally, for transient reasons.  You should plan how to detect and react to these failures.   The [retrying module](https://pypi.python.org/pypi/retrying) is one way to deal with this."
   ]
  },
  {
   "cell_type": "code",
   "execution_count": null,
   "metadata": {
    "slideshow": null
   },
   "outputs": [],
   "source": [
    "def get_captions(path):\n",
    "    response = requests.get(path)\n",
    "    soup = BeautifulSoup(response.text, \"lxml\")\n",
    "    caption_divs_main = soup.find_all('font', attrs={'face': 'Verdana, Arial, Helvetica, sans-serif'})\n",
    "    caption_divs2 = soup.find_all(\"div\", {'align': 'center', 'class': 'photocaption'}, text=True)\n",
    "    caption_divs3 = soup.find_all(\"td\", {'valign': 'top', 'class': 'photocaption'}, text=True)\n",
    "    caption_divs4 = soup.find_all(\"td\", {'valign': 'top', 'class': 'photocaption', 'style': 'background-color:#faf9ee'}, text=True)\n",
    "    caps = caption_divs_main + caption_divs2 + caption_divs3 + caption_divs4 \n",
    "    list_of_captions = []\n",
    "    for tag in caps:\n",
    "        list_of_captions.append(tag.text.strip().encode('utf-8'))\n",
    "    return list_of_captions"
   ]
  },
  {
   "cell_type": "markdown",
   "metadata": {
    "slideshow": null
   },
   "source": [
    "This should get the same captions as before."
   ]
  },
  {
   "cell_type": "code",
   "execution_count": null,
   "metadata": {},
   "outputs": [],
   "source": [
    "captions_sample = get_captions(\"https://web.archive.org/web/20151114014941/http://www.newyorksocialdiary.com/party-pictures/2015/celebrating-the-neighborhood\")\n",
    "dill.dump(captions_sample, open('captions_sample.pkd', 'wb'))"
   ]
  },
  {
   "cell_type": "markdown",
   "metadata": {
    "slideshow": null
   },
   "source": [
    "Now that we have some sample captions, let's start parsing names out of those captions.  There are many ways of going about this, and we leave the details up to you.  Some issues to consider:\n",
    "\n",
    "  1. Some captions are not useful: they contain long narrative texts that explain the event.  Try to find some heuristic rules to separate captions that are a list of names from those that are not.  A few heuristics include:\n",
    "    - look for sentences (which have verbs) and as opposed to lists of nouns. For example, [`nltk` does part of speech tagging](http://www.nltk.org/book/ch05.html) but it is a little slow. There may also be heuristics that accomplish the same thing.\n",
    "    - Similarly, spaCy's [entity recognition](https://spacy.io/docs/usage/entity-recognition) could be useful here.\n",
    "    - Look for commonly repeated threads (e.g. you might end up picking up the photo credits or people such as \"a friend\").\n",
    "    - Long captions are often not lists of people.  The cutoff is subjective, but for grading purposes, *set that cutoff at 250 characters*.\n",
    "  2. You will want to separate the captions based on various forms of punctuation.  Try using `re.split`, which is more sophisticated than `string.split`. **Note**: The reference solution uses regex exclusively for name parsing.\n",
    "  3. You might find a person named \"ra Lebenthal\".  There is no one by this name.  Can anyone spot what's happening here?\n",
    "  4. This site is pretty formal and likes to say things like \"Mayor Michael Bloomberg\" after his election but \"Michael Bloomberg\" before his election.  Can you find other ('optional') titles that are being used?  They should probably be filtered out because they ultimately refer to the same person: \"Michael Bloomberg.\"\n",
    "  5. There is a special case you might find where couples are written as eg. \"John and Mary Smith\". You will need to write some extra logic to make sure this properly parses to two names: \"John Smith\" and \"Mary Smith\".\n",
    "  6. When parsing names from captions, it can help to look at your output frequently and address the problems that you see coming up, iterating until you have a list that looks reasonable. This is the approach used in the reference solution. Because we can only asymptotically approach perfect identification and entity matching, we have to stop somewhere.\n",
    "  \n",
    "**Questions worth considering:**\n",
    "  1. Who is Patrick McMullan and should he be included in the results? How would you address this?\n",
    "  2. What else could you do to improve the quality of the graph's information?"
   ]
  },
  {
   "cell_type": "code",
   "execution_count": null,
   "metadata": {},
   "outputs": [],
   "source": [
    "names = [s.decode('utf-8', 'ignore') for s in captions_sample]\n",
    "names"
   ]
  },
  {
   "cell_type": "code",
   "execution_count": null,
   "metadata": {},
   "outputs": [],
   "source": [
    "names = [s.decode('utf-8', 'ignore') for s in captions_sample]\n",
    "n = []\n",
    "for name in names:\n",
    "    n.append(spacy_parse_string(name))\n",
    "n"
   ]
  },
  {
   "cell_type": "code",
   "execution_count": null,
   "metadata": {},
   "outputs": [],
   "source": [
    "sample_names = []\n",
    "for i in range(len(n)):\n",
    "    for j in n[i]:\n",
    "        sample_names.append(j)\n",
    "sample_names"
   ]
  },
  {
   "cell_type": "markdown",
   "metadata": {
    "slideshow": null
   },
   "source": [
    "## Question 2: sample_names\n"
   ]
  },
  {
   "cell_type": "markdown",
   "metadata": {
    "slideshow": null
   },
   "source": [
    "Once you feel that your algorithm is working well on these captions, parse all of the captions and extract all the names mentioned.  Sort them alphabetically, by first name, and return the first hundred."
   ]
  },
  {
   "cell_type": "code",
   "execution_count": null,
   "metadata": {},
   "outputs": [],
   "source": [
    "import numpy as np\n",
    "sample_n =np.sort(sample_names)\n",
    "sample_n = np.unique(sample_n)\n",
    "sample_n = sample_n[0:100]\n",
    "sample_n"
   ]
  },
  {
   "cell_type": "code",
   "execution_count": null,
   "metadata": {
    "slideshow": null
   },
   "outputs": [],
   "source": [
    "grader.score('graph__sample_names', sample_n)"
   ]
  },
  {
   "cell_type": "markdown",
   "metadata": {
    "slideshow": null
   },
   "source": [
    "Now, run this sort of test on a few other pages.  You will probably find that other pages have a slightly different HTML structure, as well as new captions that trip up your caption parser.  But don't worry if the parser isn't perfect -- just try to get the easy cases."
   ]
  },
  {
   "cell_type": "markdown",
   "metadata": {
    "slideshow": null
   },
   "source": [
    "## Phase Three\n"
   ]
  },
  {
   "cell_type": "markdown",
   "metadata": {
    "slideshow": null
   },
   "source": [
    "Once you are satisfied that your caption scraper and parser are working, run this for all of the pages.  If you haven't implemented some caching of the captions, you probably want to do this first."
   ]
  },
  {
   "cell_type": "code",
   "execution_count": null,
   "metadata": {
    "slideshow": null
   },
   "outputs": [],
   "source": [
    "# Scraping all of the pages could take 10 minutes or so."
   ]
  },
  {
   "cell_type": "code",
   "execution_count": null,
   "metadata": {},
   "outputs": [],
   "source": [
    "all_captions = []\n",
    "for i in range(len(link_list)):\n",
    "    loc = link_list[i][0].find('http://www.newyorksocialdiary.com/party-pictures')\n",
    "    pic_path ='https://web.archive.org/web/20151114014941/'+link_list[i][0][loc:]\n",
    "    all_captions.extend(get_captions(pic_path))"
   ]
  },
  {
   "cell_type": "code",
   "execution_count": null,
   "metadata": {},
   "outputs": [],
   "source": [
    "len(all_captions)"
   ]
  },
  {
   "cell_type": "code",
   "execution_count": null,
   "metadata": {},
   "outputs": [],
   "source": [
    "dill.dump(all_captions, open('all_cap.pkd', 'wb'))"
   ]
  },
  {
   "cell_type": "markdown",
   "metadata": {
    "slideshow": null
   },
   "source": [
    "For the remaining analysis, we think of the problem in terms of a\n",
    "[network](http://en.wikipedia.org/wiki/Computer_network) or a\n",
    "[graph](https://en.wikipedia.org/wiki/Graph_%28discrete_mathematics%29).  Any time a pair of people appear in a photo together, that is considered a link.  What we have described is more appropriately called an (undirected)\n",
    "[multigraph](http://en.wikipedia.org/wiki/Multigraph) with no self-loops but this has an obvious analog in terms of an undirected [weighted graph](http://en.wikipedia.org/wiki/Graph_%28mathematics%29#Weighted_graph).  In this problem, we will analyze the social graph of the New York social elite.  We recommend using python's [`networkx`](https://networkx.github.io/) library."
   ]
  },
  {
   "cell_type": "code",
   "execution_count": null,
   "metadata": {},
   "outputs": [],
   "source": [
    "import spacy\n",
    "\n",
    "nlp = spacy.load('en_core_web_sm')"
   ]
  },
  {
   "cell_type": "code",
   "execution_count": null,
   "metadata": {},
   "outputs": [],
   "source": [
    "def spacy_parse_string(party_string):\n",
    "    doc = nlp(party_string)\n",
    "    \n",
    "    list_of_names = [ent.text for ent in doc.ents if ent.label_ =='PERSON']\n",
    "    for ind in range(len(list_of_names)-2,-1,-1):\n",
    "        if len(list_of_names[ind].split(\" \")) == 1 and len(list_of_names[ind+1].split(\" \")) !=1:\n",
    "            list_of_names[ind] = list_of_names[ind] +  \" \"+ list_of_names[ind+1].split(\" \")[1]\n",
    "    return list_of_names\n",
    "            "
   ]
  },
  {
   "cell_type": "code",
   "execution_count": null,
   "metadata": {},
   "outputs": [],
   "source": [
    "all_captions = dill.load(open('all_cap.pkd', 'rb'))\n",
    "all_names = [s.decode('utf-8', 'ignore') for s in all_captions]\n",
    "n = []\n",
    "for name in all_names:\n",
    "    n.append(spacy_parse_string(name))"
   ]
  },
  {
   "cell_type": "code",
   "execution_count": null,
   "metadata": {},
   "outputs": [],
   "source": [
    "names = []\n",
    "for i in range(len(n)):\n",
    "    for j in n[i]:\n",
    "        names.append(j)"
   ]
  },
  {
   "cell_type": "code",
   "execution_count": null,
   "metadata": {},
   "outputs": [],
   "source": [
    "len(names)"
   ]
  },
  {
   "cell_type": "code",
   "execution_count": null,
   "metadata": {},
   "outputs": [],
   "source": [
    "dill.dump(names, open('names.pkd', 'wb'))"
   ]
  },
  {
   "cell_type": "markdown",
   "metadata": {
    "slideshow": null
   },
   "source": [
    "All in all, you should end up with over 100,000 captions and more than 110,000 names, connected in about 200,000 pairs."
   ]
  },
  {
   "cell_type": "markdown",
   "metadata": {
    "slideshow": null
   },
   "source": [
    "## Question 3: degree\n"
   ]
  },
  {
   "cell_type": "markdown",
   "metadata": {
    "slideshow": null
   },
   "source": [
    "The simplest question to ask is \"who is the most popular\"?  The easiest way to answer this question is to look at how many connections everyone has.  Return the top 100 people and their degree.  Remember that if an edge of the graph has weight 2, it counts for 2 in the degree.\n",
    "\n",
    "**Checkpoint:** Some aggregate stats on the solution\n",
    "\n",
    "    \"count\": 100.0\n",
    "    \"mean\": 189.92\n",
    "    \"std\": 87.8053034454\n",
    "    \"min\": 124.0\n",
    "    \"25%\": 138.0\n",
    "    \"50%\": 157.0\n",
    "    \"75%\": 195.0\n",
    "    \"max\": 666.0"
   ]
  },
  {
   "cell_type": "code",
   "execution_count": null,
   "metadata": {},
   "outputs": [],
   "source": [
    "import itertools  # itertools.combinations may be useful\n",
    "import networkx as nx\n",
    "from itertools import combinations\n",
    "import heapq                # Heaps are efficient structures for tracking the largest\n",
    "              # elements in a collection.  Use introspection to find the\n",
    "              # function you need."
   ]
  },
  {
   "cell_type": "code",
   "execution_count": null,
   "metadata": {
    "slideshow": null
   },
   "outputs": [],
   "source": [
    "G = nx.MultiGraph()\n",
    "def degree():\n",
    "    for caption in n:\n",
    "            connections = list(combinations(caption,2))\n",
    "            G.add_edges_from(list(combinations(caption,2)))\n",
    "    A = sorted(G.degree(), key = lambda x: -x[1])[:100]\n",
    "    return A"
   ]
  },
  {
   "cell_type": "code",
   "execution_count": null,
   "metadata": {},
   "outputs": [],
   "source": [
    "len(degree())"
   ]
  },
  {
   "cell_type": "code",
   "execution_count": null,
   "metadata": {},
   "outputs": [],
   "source": [
    "grader.score('graph__degree', degree)"
   ]
  },
  {
   "cell_type": "markdown",
   "metadata": {
    "slideshow": null
   },
   "source": [
    "## Question 4: PageRank\n"
   ]
  },
  {
   "cell_type": "markdown",
   "metadata": {
    "slideshow": null
   },
   "source": [
    "A similar way to determine popularity is to look at their\n",
    "[PageRank](http://en.wikipedia.org/wiki/PageRank).  PageRank is used for web ranking and was originally\n",
    "[patented](http://patft.uspto.gov/netacgi/nph-Parser?patentnumber=6285999) by Google and is essentially the stationary distribution of a [Markov\n",
    "chain](http://en.wikipedia.org/wiki/Markov_chain) implied by the social graph. You can implement this yourself or use the version in `networkx`\n",
    "\n",
    "Use 0.85 as the damping parameter so that there is a 15% chance of jumping to another vertex at random.\n",
    "\n",
    "**Checkpoint:** Some aggregate stats on the solution\n",
    "\n",
    "    \"count\": 100.0\n",
    "    \"mean\": 0.0001841088\n",
    "    \"std\": 0.0000758068\n",
    "    \"min\": 0.0001238355\n",
    "    \"25%\": 0.0001415028\n",
    "    \"50%\": 0.0001616183\n",
    "    \"75%\": 0.0001972663\n",
    "    \"max\": 0.0006085816"
   ]
  },
  {
   "cell_type": "code",
   "execution_count": null,
   "metadata": {},
   "outputs": [],
   "source": [
    "import itertools  # itertools.combinations may be useful\n",
    "import networkx as nx\n",
    "from itertools import combinations\n",
    "\n",
    "def pagerank():\n",
    "    G = nx.MultiGraph()\n",
    "    for caption in n:\n",
    "            connections = list(combinations(caption,2))\n",
    "            G.add_edges_from(list(combinations(caption,2)))\n",
    "       \n",
    "    H = nx.Graph()\n",
    "    for u,v,w in G.edges(data=True):\n",
    "        if H.has_edge(u,v):\n",
    "            H[u][v]['weight'] += 1\n",
    "        else:\n",
    "            H.add_edge(u,v,weight=1)\n",
    "    ranks = nx.pagerank(H)\n",
    "    A = sorted(ranks.items(), key = lambda x: -x[1])[:100]\n",
    "    perfect_rank = []   \n",
    "    for i in range(100):\n",
    "        perfect_rank.append(A[i])\n",
    "    return perfect_rank"
   ]
  },
  {
   "cell_type": "code",
   "execution_count": null,
   "metadata": {},
   "outputs": [],
   "source": [
    "grader.score('graph__pagerank', pagerank)"
   ]
  },
  {
   "cell_type": "markdown",
   "metadata": {
    "slideshow": null
   },
   "source": [
    "Another interesting question is who tend to co-occur with each other.  Give us the 100 edges with the highest weights.\n",
    "\n",
    "Google these people and see what their connection is.  Can we use this to detect instances of infidelity?\n",
    "\n",
    "**Checkpoint:** Some aggregate stats on the solution\n",
    "\n",
    "    \"count\": 100.0\n",
    "    \"mean\": 25.84\n",
    "    \"std\": 16.0395470855\n",
    "    \"min\": 14.0\n",
    "    \"25%\": 16.0\n",
    "    \"50%\": 19.0\n",
    "    \"75%\": 29.25\n",
    "    \"max\": 109.0"
   ]
  },
  {
   "cell_type": "code",
   "execution_count": null,
   "metadata": {},
   "outputs": [],
   "source": [
    "import pandas as pd\n",
    "\n",
    "weights = H.edges(data = True)\n",
    "L = []\n",
    "for (n1,n2,w) in weights:\n",
    "    t = (n1,n2,w['weight'])\n",
    "    L.append(t)\n",
    "df = pd.DataFrame(L, columns=['node1', 'node2', 'weight'])\n",
    "sorted_df = df.sort_values(['weight'],ascending = False)\n",
    " \n",
    "best_friends = []\n",
    "for name1,name2,weight in sorted_df[0:100].values:\n",
    "    best_friends.append(((str(name1),str(name2)),weight))"
   ]
  },
  {
   "cell_type": "code",
   "execution_count": null,
   "metadata": {},
   "outputs": [],
   "source": [
    "grader.score('graph__best_friends', best_friends)"
   ]
  },
  {
   "cell_type": "code",
   "execution_count": null,
   "metadata": {},
   "outputs": [],
   "source": [
    "CAPTIONS = [\n",
    "    u\"Robin and Chad Pennington\",\n",
    "    u\"Professor Saima Wazed Hossain with  H.E. Madame Ilham Hussein, first lady of the Maldives\",\n",
    "    u\"Bob and Claire Rigel with Tom Hall\",\n",
    "    u\"Count and Countess Dijon von Monteton \",\n",
    "    u\"Mauro Bergonzoli and Franziska Countess Fugger von Babenhausen\",\n",
    "    u\"Carmen and Zarin Mehta\",\n",
    "    u\"Board Chair Brooke Garber Neidich, Dr. Ruth Westheimer, President Harold S. Koplewicz, MD, Michael Fascitelli, Governor Jon S. Corzine, and Speaker Christine Quinn\",\n",
    "    u\" Dr. Mario Lacouture with CancerCare Director of Education and Training Carolyn Messner \",\n",
    "    u\" Bono             and Harry Belafonte\",\n",
    "    u\"       Catherine Sabino, Christophe von Hohenberg, and Caroline von  Humboldt.    \",\n",
    "    u\"Bonnie Strauss, President and Founder, with Morris and Nancy Offit\"\n",
    "]\n",
    "\n",
    "def caption_tester(f):\n",
    "    for c in CAPTIONS:\n",
    "        print(c)\n",
    "        print(f(c))\n",
    "        print()"
   ]
  },
  {
   "cell_type": "markdown",
   "metadata": {
    "slideshow": null
   },
   "source": [
    "*Copyright &copy; 2020 Pragmatic Institute. This content is licensed solely for personal use. Redistribution or publication of this material is strictly prohibited.*"
   ]
  }
 ],
 "metadata": {
  "kernelspec": {
   "display_name": "Python 3",
   "language": "python",
   "name": "python3"
  },
  "language_info": {
   "codemirror_mode": {
    "name": "ipython",
    "version": 3
   },
   "file_extension": ".py",
   "mimetype": "text/x-python",
   "name": "python",
   "nbconvert_exporter": "python",
   "pygments_lexer": "ipython3",
   "version": "3.8.5"
  },
  "nbclean": true
 },
 "nbformat": 4,
 "nbformat_minor": 4
}
